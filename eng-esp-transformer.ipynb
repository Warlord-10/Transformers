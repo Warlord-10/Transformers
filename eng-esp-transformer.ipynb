{
 "cells": [
  {
   "cell_type": "code",
   "execution_count": 14,
   "id": "d753ae7c",
   "metadata": {
    "execution": {
     "iopub.execute_input": "2025-10-16T07:45:45.804048Z",
     "iopub.status.busy": "2025-10-16T07:45:45.803782Z",
     "iopub.status.idle": "2025-10-16T07:45:45.809473Z",
     "shell.execute_reply": "2025-10-16T07:45:45.808709Z",
     "shell.execute_reply.started": "2025-10-16T07:45:45.804028Z"
    },
    "trusted": true
   },
   "outputs": [],
   "source": [
    "# https://www.statmt.org/europarl/\n",
    "\n",
    "# Import necessary libraries\n",
    "import numpy as np\n",
    "import pandas as pd\n",
    "import matplotlib.pyplot as plt\n",
    "from sklearn.preprocessing import MinMaxScaler\n",
    "import tensorflow as tf\n",
    "from tensorflow.keras.models import Sequential, Model\n",
    "from tensorflow.keras.layers import Dense, LSTM, Dropout, Embedding, Input, Bidirectional, RepeatVector, MultiHeadAttention, Dense, Layer, LayerNormalization, TextVectorization\n",
    "from tensorflow.keras.preprocessing.text import Tokenizer\n",
    "from tensorflow.keras.preprocessing.sequence import pad_sequences \n",
    "from tensorflow.keras.utils import to_categorical\n",
    "from sklearn.model_selection import train_test_split\n",
    "from tensorflow.keras.losses import SparseCategoricalCrossentropy\n",
    "from tensorflow.keras.metrics import SparseCategoricalAccuracy\n",
    "from tensorflow.keras.callbacks import EarlyStopping\n",
    "from tensorflow.keras.optimizers import Adam\n",
    "import string\n",
    "import re\n",
    "import sentencepiece as spm\n",
    "from pathlib import Path\n",
    "\n",
    "\n",
    "tf.random.set_seed(34)"
   ]
  },
  {
   "cell_type": "code",
   "execution_count": 15,
   "id": "1daf30d4",
   "metadata": {
    "execution": {
     "iopub.execute_input": "2025-10-16T07:45:48.312876Z",
     "iopub.status.busy": "2025-10-16T07:45:48.312217Z",
     "iopub.status.idle": "2025-10-16T07:45:48.738436Z",
     "shell.execute_reply": "2025-10-16T07:45:48.737819Z",
     "shell.execute_reply.started": "2025-10-16T07:45:48.312845Z"
    },
    "trusted": true
   },
   "outputs": [
    {
     "name": "stdout",
     "output_type": "stream",
     "text": [
      "Dataset shape: (118964, 2)\n"
     ]
    },
    {
     "data": {
      "text/html": [
       "<div>\n",
       "<style scoped>\n",
       "    .dataframe tbody tr th:only-of-type {\n",
       "        vertical-align: middle;\n",
       "    }\n",
       "\n",
       "    .dataframe tbody tr th {\n",
       "        vertical-align: top;\n",
       "    }\n",
       "\n",
       "    .dataframe thead th {\n",
       "        text-align: right;\n",
       "    }\n",
       "</style>\n",
       "<table border=\"1\" class=\"dataframe\">\n",
       "  <thead>\n",
       "    <tr style=\"text-align: right;\">\n",
       "      <th></th>\n",
       "      <th>english</th>\n",
       "      <th>spanish</th>\n",
       "    </tr>\n",
       "  </thead>\n",
       "  <tbody>\n",
       "    <tr>\n",
       "      <th>0</th>\n",
       "      <td>Go.</td>\n",
       "      <td>Ve.</td>\n",
       "    </tr>\n",
       "    <tr>\n",
       "      <th>1</th>\n",
       "      <td>Go.</td>\n",
       "      <td>Vete.</td>\n",
       "    </tr>\n",
       "    <tr>\n",
       "      <th>2</th>\n",
       "      <td>Go.</td>\n",
       "      <td>Vaya.</td>\n",
       "    </tr>\n",
       "    <tr>\n",
       "      <th>3</th>\n",
       "      <td>Go.</td>\n",
       "      <td>Váyase.</td>\n",
       "    </tr>\n",
       "    <tr>\n",
       "      <th>4</th>\n",
       "      <td>Hi.</td>\n",
       "      <td>Hola.</td>\n",
       "    </tr>\n",
       "  </tbody>\n",
       "</table>\n",
       "</div>"
      ],
      "text/plain": [
       "  english  spanish\n",
       "0     Go.      Ve.\n",
       "1     Go.    Vete.\n",
       "2     Go.    Vaya.\n",
       "3     Go.  Váyase.\n",
       "4     Hi.    Hola."
      ]
     },
     "execution_count": 15,
     "metadata": {},
     "output_type": "execute_result"
    }
   ],
   "source": [
    "# dataset = pd.read_csv(\"eng-hin-dataset.csv\")\n",
    "dataset = pd.read_csv(\"./data.csv\")\n",
    "dataset.drop_duplicates(inplace=True)\n",
    "\n",
    "print(\"Dataset shape:\", dataset.shape)\n",
    "dataset.head()"
   ]
  },
  {
   "cell_type": "code",
   "execution_count": 16,
   "id": "82df76fe",
   "metadata": {
    "execution": {
     "iopub.execute_input": "2025-10-16T07:45:50.438139Z",
     "iopub.status.busy": "2025-10-16T07:45:50.437851Z",
     "iopub.status.idle": "2025-10-16T07:45:50.536716Z",
     "shell.execute_reply": "2025-10-16T07:45:50.536005Z",
     "shell.execute_reply.started": "2025-10-16T07:45:50.438119Z"
    },
    "trusted": true
   },
   "outputs": [
    {
     "data": {
      "text/html": [
       "<div>\n",
       "<style scoped>\n",
       "    .dataframe tbody tr th:only-of-type {\n",
       "        vertical-align: middle;\n",
       "    }\n",
       "\n",
       "    .dataframe tbody tr th {\n",
       "        vertical-align: top;\n",
       "    }\n",
       "\n",
       "    .dataframe thead th {\n",
       "        text-align: right;\n",
       "    }\n",
       "</style>\n",
       "<table border=\"1\" class=\"dataframe\">\n",
       "  <thead>\n",
       "    <tr style=\"text-align: right;\">\n",
       "      <th></th>\n",
       "      <th>english</th>\n",
       "      <th>spanish</th>\n",
       "    </tr>\n",
       "  </thead>\n",
       "  <tbody>\n",
       "    <tr>\n",
       "      <th>0</th>\n",
       "      <td>go.</td>\n",
       "      <td>ve.</td>\n",
       "    </tr>\n",
       "    <tr>\n",
       "      <th>1</th>\n",
       "      <td>go.</td>\n",
       "      <td>vete.</td>\n",
       "    </tr>\n",
       "    <tr>\n",
       "      <th>2</th>\n",
       "      <td>go.</td>\n",
       "      <td>vaya.</td>\n",
       "    </tr>\n",
       "    <tr>\n",
       "      <th>3</th>\n",
       "      <td>go.</td>\n",
       "      <td>váyase.</td>\n",
       "    </tr>\n",
       "    <tr>\n",
       "      <th>4</th>\n",
       "      <td>hi.</td>\n",
       "      <td>hola.</td>\n",
       "    </tr>\n",
       "  </tbody>\n",
       "</table>\n",
       "</div>"
      ],
      "text/plain": [
       "  english  spanish\n",
       "0     go.      ve.\n",
       "1     go.    vete.\n",
       "2     go.    vaya.\n",
       "3     go.  váyase.\n",
       "4     hi.    hola."
      ]
     },
     "execution_count": 16,
     "metadata": {},
     "output_type": "execute_result"
    }
   ],
   "source": [
    "dataset[\"english\"] = dataset[\"english\"].str.lower()\n",
    "dataset[\"spanish\"] = dataset[\"spanish\"].str.lower()\n",
    "\n",
    "dataset.sort_index()\n",
    "dataset.head()"
   ]
  },
  {
   "cell_type": "code",
   "execution_count": 7,
   "id": "9183b983",
   "metadata": {
    "execution": {
     "iopub.execute_input": "2025-10-16T07:45:52.401205Z",
     "iopub.status.busy": "2025-10-16T07:45:52.400638Z",
     "iopub.status.idle": "2025-10-16T07:45:53.494484Z",
     "shell.execute_reply": "2025-10-16T07:45:53.493700Z",
     "shell.execute_reply.started": "2025-10-16T07:45:52.401178Z"
    },
    "trusted": true
   },
   "outputs": [
    {
     "data": {
      "image/png": "[encoded data removed]",
      "text/plain": [
       "<Figure size 640x480 with 1 Axes>"
      ]
     },
     "metadata": {},
     "output_type": "display_data"
    }
   ],
   "source": [
    "import matplotlib.pyplot as plt\n",
    "\n",
    "# histogram of sentence length in tokens\n",
    "eng_length = [len(sentence.split()) for sentence in dataset[\"english\"]]\n",
    "esp_length = [len(sentence.split()) for sentence in dataset[\"spanish\"]]\n",
    "\n",
    "plt.hist(eng_length, label=\"eng\", color=\"red\", alpha=0.33)\n",
    "plt.hist(esp_length, label=\"esp\", color=\"blue\", alpha=0.33)\n",
    "plt.yscale(\"log\")     # sentence length fits Benford\"s law\n",
    "plt.ylim(plt.ylim())  # make y-axis consistent for both plots\n",
    "plt.plot([max(eng_length), max(eng_length)], plt.ylim(), color=\"red\")\n",
    "plt.plot([max(esp_length), max(esp_length)], plt.ylim(), color=\"blue\")\n",
    "plt.legend()\n",
    "plt.title(\"Examples count vs Token length\")\n",
    "plt.show()"
   ]
  },
  {
   "cell_type": "code",
   "execution_count": 8,
   "id": "796f427c",
   "metadata": {
    "execution": {
     "iopub.execute_input": "2025-10-16T06:18:17.934313Z",
     "iopub.status.busy": "2025-10-16T06:18:17.933756Z",
     "iopub.status.idle": "2025-10-16T06:18:17.942468Z",
     "shell.execute_reply": "2025-10-16T06:18:17.941662Z",
     "shell.execute_reply.started": "2025-10-16T06:18:17.934289Z"
    },
    "trusted": true
   },
   "outputs": [
    {
     "data": {
      "text/plain": [
       "(47, 49)"
      ]
     },
     "execution_count": 8,
     "metadata": {},
     "output_type": "execute_result"
    }
   ],
   "source": [
    "max_eng = max(eng_length)\n",
    "max_esp = max(esp_length)\n",
    "max_eng, max_esp"
   ]
  },
  {
   "cell_type": "code",
   "execution_count": 62,
   "id": "f57dabda",
   "metadata": {
    "execution": {
     "execution_failed": "2025-10-09T05:27:17.562Z"
    },
    "trusted": true
   },
   "outputs": [],
   "source": [
    "# Write clean text lists to disk for SP training\n",
    "Path(\"sp_data\").mkdir(exist_ok=True)\n",
    "eng_path = \"sp_data/eng.txt\"\n",
    "esp_path = \"sp_data/esp.txt\"\n",
    "\n",
    "with open(eng_path, \"w\") as f:\n",
    "    for line in dataset['english'].dropna():\n",
    "        f.write(line.replace('\"', '').lower() + \"\\n\")\n",
    "\n",
    "with open(esp_path, \"w\") as f:\n",
    "    for line in dataset['spanish'].dropna():\n",
    "        f.write(line.lower() + \"\\n\")"
   ]
  },
  {
   "cell_type": "code",
   "execution_count": 63,
   "id": "d40e94ec",
   "metadata": {
    "execution": {
     "execution_failed": "2025-10-09T05:27:17.562Z"
    },
    "trusted": true
   },
   "outputs": [
    {
     "name": "stdout",
     "output_type": "stream",
     "text": [
      "BPE trained\n"
     ]
    }
   ],
   "source": [
    "# Train EN BPE\n",
    "# spm.SentencePieceTrainer.Train(\n",
    "#     input=en_path,\n",
    "#     model_prefix=\"bpe_eng\",\n",
    "#     vocab_size=20000,              \n",
    "#     model_type=\"bpe\",\n",
    "#     character_coverage=1.0,        \n",
    "#     pad_id=0, unk_id=1, bos_id=2, eos_id=3\n",
    "# )\n",
    "\n",
    "# Train HI BPE\n",
    "# spm.SentencePieceTrainer.Train(\n",
    "#     input=hi_path,\n",
    "#     model_prefix=\"bpe_esp\",\n",
    "#     vocab_size=20000,              \n",
    "#     model_type=\"bpe\",\n",
    "#     character_coverage=1.0,    \n",
    "#     pad_id=0, unk_id=1, bos_id=2, eos_id=3\n",
    "# )\n",
    "\n",
    "spm.SentencePieceTrainer.Train(\n",
    "    input=[eng_path, esp_path],\n",
    "    model_prefix=\"bpe_mixed\",\n",
    "    vocab_size=32000,              \n",
    "    model_type=\"bpe\",\n",
    "    character_coverage=0.9995,    \n",
    "    pad_id=0, unk_id=1, bos_id=2, eos_id=3\n",
    ")\n",
    "\n",
    "print(\"BPE trained\")"
   ]
  },
  {
   "cell_type": "code",
   "execution_count": 12,
   "id": "e06d44bb",
   "metadata": {
    "execution": {
     "iopub.execute_input": "2025-10-09T05:33:32.216142Z",
     "iopub.status.busy": "2025-10-09T05:33:32.215503Z",
     "iopub.status.idle": "2025-10-09T05:33:32.271753Z",
     "shell.execute_reply": "2025-10-09T05:33:32.271046Z",
     "shell.execute_reply.started": "2025-10-09T05:33:32.216117Z"
    },
    "trusted": true
   },
   "outputs": [
    {
     "name": "stdout",
     "output_type": "stream",
     "text": [
      "Original EN: where is he?\n",
      "Tokenized EN: ([482, 71, 65, 31982], ['▁where', '▁is', '▁he', '?'])\n",
      "Original ESP: ¿dónde está él?\n",
      "Tokenized ESP: ([2, 70, 964, 154, 129, 31982, 3], ['<s>', '▁¿', 'dónde', '▁está', '▁él', '?', '</s>'])\n"
     ]
    }
   ],
   "source": [
    "# Load the trained BPE models\n",
    "eng_sp = spm.SentencePieceProcessor()\n",
    "eng_sp.load('./bpe_mixed.model')\n",
    "\n",
    "esp_sp = spm.SentencePieceProcessor()\n",
    "esp_sp.load('bpe_mixed.model')\n",
    "\n",
    "# Create tokenization functions\n",
    "def encode_eng(text):\n",
    "    return eng_sp.encode(text, add_bos=False, add_eos=False), eng_sp.encode_as_pieces(text, add_bos=False, add_eos=False)\n",
    "\n",
    "def encode_esp(text):\n",
    "    return esp_sp.encode(text, add_bos=True, add_eos=True), esp_sp.encode_as_pieces(text, add_bos=True, add_eos=True)\n",
    "\n",
    "def decode_esp(tokens):\n",
    "    return esp_sp.decode(tokens)\n",
    "\n",
    "# Test the tokenizers\n",
    "sample_eng = dataset['english'][2400]\n",
    "sample_esp = dataset['spanish'][2400]\n",
    "\n",
    "print(f\"Original EN: {sample_eng}\")\n",
    "print(f\"Tokenized EN: {encode_eng(sample_eng)}\")\n",
    "print(f\"Original ESP: {sample_esp}\")\n",
    "print(f\"Tokenized ESP: {encode_esp(sample_esp)}\")\n"
   ]
  },
  {
   "cell_type": "code",
   "execution_count": 9,
   "id": "2e9c1ebf",
   "metadata": {
    "execution": {
     "iopub.execute_input": "2025-10-16T07:45:57.518453Z",
     "iopub.status.busy": "2025-10-16T07:45:57.518186Z",
     "iopub.status.idle": "2025-10-16T07:45:57.577913Z",
     "shell.execute_reply": "2025-10-16T07:45:57.577063Z",
     "shell.execute_reply.started": "2025-10-16T07:45:57.518433Z"
    },
    "trusted": true
   },
   "outputs": [],
   "source": [
    "MAX_LENGTH = 128 \n",
    "\n",
    "# Load the trained BPE models\n",
    "eng_sp = spm.SentencePieceProcessor()\n",
    "eng_sp.load('/kaggle/input/bpe-mixed/other/default/1/bpe_mixed.model')\n",
    "\n",
    "esp_sp = spm.SentencePieceProcessor()\n",
    "esp_sp.load('/kaggle/input/bpe-mixed/other/default/1/bpe_mixed.model')\n",
    "\n",
    "def tokenize_data(df):\n",
    "    # Apply your encoding functions\n",
    "    en_tokenized = df['english'].dropna().apply(lambda x: eng_sp.encode(str(x), add_bos=False, add_eos=False))\n",
    "    hi_tokenized = df['spanish'].dropna().apply(lambda x: esp_sp.encode(str(x), add_bos=True, add_eos=True))\n",
    "\n",
    "    # Filter out sentences that are too long\n",
    "    filtered_eng, filtered_esp = [], []\n",
    "    for eng, esp in zip(en_tokenized, hi_tokenized):\n",
    "        if len(eng) <= MAX_LENGTH and len(esp) <= MAX_LENGTH + 1:\n",
    "            filtered_eng.append(eng)\n",
    "            filtered_esp.append(esp)\n",
    "            \n",
    "    return filtered_eng, filtered_esp"
   ]
  },
  {
   "cell_type": "code",
   "execution_count": 10,
   "id": "aa0d013f",
   "metadata": {
    "execution": {
     "iopub.execute_input": "2025-10-16T07:46:00.585232Z",
     "iopub.status.busy": "2025-10-16T07:46:00.584689Z",
     "iopub.status.idle": "2025-10-16T07:46:00.614465Z",
     "shell.execute_reply": "2025-10-16T07:46:00.613659Z",
     "shell.execute_reply.started": "2025-10-16T07:46:00.585208Z"
    },
    "trusted": true
   },
   "outputs": [
    {
     "data": {
      "text/plain": [
       "((95171, 2), (23793, 2))"
      ]
     },
     "execution_count": 10,
     "metadata": {},
     "output_type": "execute_result"
    }
   ],
   "source": [
    "train_df, valid_df = train_test_split(dataset, test_size=0.2, random_state=42)\n",
    "train_df.shape, valid_df.shape"
   ]
  },
  {
   "cell_type": "code",
   "execution_count": 11,
   "id": "1bc911eb",
   "metadata": {
    "execution": {
     "iopub.execute_input": "2025-10-16T07:46:02.149133Z",
     "iopub.status.busy": "2025-10-16T07:46:02.148607Z",
     "iopub.status.idle": "2025-10-16T07:46:06.763889Z",
     "shell.execute_reply": "2025-10-16T07:46:06.763237Z",
     "shell.execute_reply.started": "2025-10-16T07:46:02.149104Z"
    },
    "trusted": true
   },
   "outputs": [],
   "source": [
    "# Tokenize the training and validation dataframes\n",
    "eng_train_tokens, esp_train_tokens = tokenize_data(train_df)\n",
    "eng_valid_tokens, esp_valid_tokens = tokenize_data(valid_df)"
   ]
  },
  {
   "cell_type": "code",
   "execution_count": 9,
   "id": "f6bebce7",
   "metadata": {
    "execution": {
     "iopub.execute_input": "2025-10-11T15:47:46.833430Z",
     "iopub.status.busy": "2025-10-11T15:47:46.832778Z",
     "iopub.status.idle": "2025-10-11T15:47:46.840455Z",
     "shell.execute_reply": "2025-10-11T15:47:46.839544Z",
     "shell.execute_reply.started": "2025-10-11T15:47:46.833400Z"
    },
    "trusted": true
   },
   "outputs": [],
   "source": [
    "BUCKETS = [10, 20, 30, 60] \n",
    "\n",
    "def create_buckets(buckets, src, trg):\n",
    "    src_bucket = {}\n",
    "    trg_bucket = {}\n",
    "\n",
    "    for bucket in buckets:\n",
    "        src_bucket[bucket] = []\n",
    "        trg_bucket[bucket] = []\n",
    "\n",
    "    for i in range(len(src)):\n",
    "        src_len = len(src[i])\n",
    "        trg_len = len(trg[i])\n",
    "\n",
    "        if(trg_len > 2*src_len or src_len > 2*trg_len):\n",
    "            continue\n",
    "\n",
    "        for bucket in buckets:\n",
    "            final_size = max(src_len, trg_len)\n",
    "            if(final_size < bucket):\n",
    "                src_bucket[bucket].append(src[i])\n",
    "                trg_bucket[bucket].append(trg[i])\n",
    "                break\n",
    "\n",
    "    print(\"Bucket Results:\")\n",
    "    for bucket in buckets:\n",
    "        print(f\"Bucket {bucket}: {len(src_bucket[bucket])} pairs\")\n",
    "    print(\"Total Pairs: \", sum([len(src_bucket[bucket]) for bucket in buckets]))\n",
    "    \n",
    "    return src_bucket, trg_bucket"
   ]
  },
  {
   "cell_type": "code",
   "execution_count": 10,
   "id": "ca9e0d3e",
   "metadata": {
    "execution": {
     "iopub.execute_input": "2025-10-11T15:47:50.932008Z",
     "iopub.status.busy": "2025-10-11T15:47:50.931524Z",
     "iopub.status.idle": "2025-10-11T15:47:50.989063Z",
     "shell.execute_reply": "2025-10-11T15:47:50.988243Z",
     "shell.execute_reply.started": "2025-10-11T15:47:50.931987Z"
    },
    "trusted": true
   },
   "outputs": [
    {
     "name": "stdout",
     "output_type": "stream",
     "text": [
      "Bucket Results:\n",
      "Bucket 10: 52412 pairs\n",
      "Bucket 20: 41359 pairs\n",
      "Bucket 30: 804 pairs\n",
      "Bucket 60: 55 pairs\n",
      "Total Pairs:  94630\n",
      "Bucket Results:\n",
      "Bucket 10: 13163 pairs\n",
      "Bucket 20: 10266 pairs\n",
      "Bucket 30: 208 pairs\n",
      "Bucket 60: 16 pairs\n",
      "Total Pairs:  23653\n"
     ]
    }
   ],
   "source": [
    "train_buckets_eng, train_buckets_esp = create_buckets(BUCKETS, eng_train_tokens, esp_train_tokens)\n",
    "val_buckets_eng, val_buckets_esp = create_buckets(BUCKETS, eng_valid_tokens, esp_valid_tokens)"
   ]
  },
  {
   "cell_type": "code",
   "execution_count": 11,
   "id": "a45feef4",
   "metadata": {
    "execution": {
     "iopub.execute_input": "2025-10-11T15:47:53.367911Z",
     "iopub.status.busy": "2025-10-11T15:47:53.367328Z",
     "iopub.status.idle": "2025-10-11T15:47:53.373243Z",
     "shell.execute_reply": "2025-10-11T15:47:53.372265Z",
     "shell.execute_reply.started": "2025-10-11T15:47:53.367886Z"
    },
    "trusted": true
   },
   "outputs": [],
   "source": [
    "def analyze(bucket_src, bucket_tgt):\n",
    "    # Calculate lengths for source and target training tokens\n",
    "    src_lengths = [len(seq) for seq in bucket_src]\n",
    "    tgt_lengths = [len(seq) for seq in bucket_tgt]\n",
    "\n",
    "    # Compute statistics for source\n",
    "    src_mean = sum(src_lengths) / len(src_lengths)\n",
    "    src_min = min(src_lengths)\n",
    "    src_max = max(src_lengths)\n",
    "\n",
    "    # Compute statistics for target\n",
    "    tgt_mean = sum(tgt_lengths) / len(tgt_lengths)\n",
    "    tgt_min = min(tgt_lengths)\n",
    "    tgt_max = max(tgt_lengths)\n",
    "    \n",
    "    print(f\"Source train tokens - Mean: {src_mean:.2f}, Min: {src_min}, Max: {src_max}\")\n",
    "    print(f\"Target train tokens - Mean: {tgt_mean:.2f}, Min: {tgt_min}, Max: {tgt_max}\")\n",
    "    print(\"\")\n"
   ]
  },
  {
   "cell_type": "code",
   "execution_count": 12,
   "id": "0d59e246",
   "metadata": {
    "execution": {
     "iopub.execute_input": "2025-10-11T15:47:56.048043Z",
     "iopub.status.busy": "2025-10-11T15:47:56.047416Z",
     "iopub.status.idle": "2025-10-11T15:47:56.067952Z",
     "shell.execute_reply": "2025-10-11T15:47:56.067263Z",
     "shell.execute_reply.started": "2025-10-11T15:47:56.048020Z"
    },
    "trusted": true
   },
   "outputs": [
    {
     "name": "stdout",
     "output_type": "stream",
     "text": [
      "Source train tokens - Mean: 6.29, Min: 2, Max: 9\n",
      "Target train tokens - Mean: 7.52, Min: 4, Max: 9\n",
      "\n",
      "Source train tokens - Mean: 10.08, Min: 5, Max: 19\n",
      "Target train tokens - Mean: 11.65, Min: 6, Max: 19\n",
      "\n",
      "Source train tokens - Mean: 19.34, Min: 11, Max: 29\n",
      "Target train tokens - Mean: 21.42, Min: 13, Max: 29\n",
      "\n",
      "Source train tokens - Mean: 30.25, Min: 21, Max: 51\n",
      "Target train tokens - Mean: 33.98, Min: 26, Max: 52\n",
      "\n"
     ]
    }
   ],
   "source": [
    "for val in BUCKETS:\n",
    "    analyze(train_buckets_eng[val], train_buckets_esp[val])"
   ]
  },
  {
   "cell_type": "code",
   "execution_count": 13,
   "id": "18338982",
   "metadata": {
    "execution": {
     "iopub.execute_input": "2025-10-11T15:47:58.723431Z",
     "iopub.status.busy": "2025-10-11T15:47:58.722863Z",
     "iopub.status.idle": "2025-10-11T15:47:58.740140Z",
     "shell.execute_reply": "2025-10-11T15:47:58.739134Z",
     "shell.execute_reply.started": "2025-10-11T15:47:58.723412Z"
    },
    "trusted": true
   },
   "outputs": [],
   "source": [
    "def preprocess(inp, out):\n",
    "    return ({\"encoder_inputs\": inp, \"decoder_inputs\": out[:, :-1]}, out[:, 1:])\n",
    "    \n",
    "def make_dataset_for_one_bucket(inp_tokens, out_tokens, batch_size, mode=\"train\"):\n",
    "    \"\"\"\n",
    "    Takes the token lists for a SINGLE bucket and turns them into a padded,\n",
    "    batched, and prefetched tf.data.Dataset.\n",
    "    \"\"\"\n",
    "    # Pad all sequences in this bucket to the bucket's max length\n",
    "    # Using max length of the bucket, not the global MAX_LENGTH, is more efficient\n",
    "    max_len_in_inp = max(len(seq) for seq in inp_tokens)\n",
    "    max_len_in_out = max(len(seq) for seq in out_tokens)\n",
    "    \n",
    "    inp_padded = pad_sequences(inp_tokens, maxlen=max_len_in_inp, padding=\"post\")\n",
    "    out_padded = pad_sequences(out_tokens, maxlen=max_len_in_out, padding=\"post\")\n",
    "\n",
    "    # Create the dataset\n",
    "    dataset = tf.data.Dataset.from_tensor_slices((inp_padded, out_padded))\n",
    "    \n",
    "    # Shuffle is crucial for training\n",
    "    if mode == \"train\":\n",
    "       # Shuffle the individual examples within the bucket\n",
    "       dataset = dataset.shuffle(buffer_size=len(inp_tokens)) \n",
    "        \n",
    "    dataset = dataset.batch(batch_size)\n",
    "    dataset = dataset.map(preprocess, num_parallel_calls=tf.data.AUTOTUNE)\n",
    "    \n",
    "    # We will prefetch the final combined dataset, not the individual ones.\n",
    "    return dataset\n",
    "\n",
    "def create_final_dataset_from_buckets(src_bucket_dict, trg_bucket_dict, buckets, batch_size, mode=\"train\"):\n",
    "    \"\"\"\n",
    "    Combines manually created buckets into a single, efficient, sampled dataset.\n",
    "    \"\"\"\n",
    "    list_of_datasets = []\n",
    "    num_samples_in_buckets = [] # To store the size of each bucket for weighting\n",
    "\n",
    "    print(\"\\n--- Creating a tf.data.Dataset for each bucket ---\")\n",
    "    for bucket_size in buckets:\n",
    "        src_tokens = src_bucket_dict[bucket_size]\n",
    "        trg_tokens = trg_bucket_dict[bucket_size]\n",
    "\n",
    "        if src_tokens: # Check if the bucket is not empty\n",
    "            print(f\"Processing bucket {bucket_size} with {len(src_tokens)} pairs...\")\n",
    "            bucket_ds = make_dataset_for_one_bucket(\n",
    "                src_tokens,\n",
    "                trg_tokens,\n",
    "                batch_size,\n",
    "                mode\n",
    "            )\n",
    "            list_of_datasets.append(bucket_ds)\n",
    "            num_samples_in_buckets.append(len(src_tokens))\n",
    "\n",
    "    if not list_of_datasets:\n",
    "        raise ValueError(\"No data found in any of the buckets. Cannot create a dataset.\")\n",
    "\n",
    "    # --- THE FIX ---\n",
    "    # Calculate sampling probabilities. This ensures each sample has an equal chance\n",
    "    # of being selected, regardless of its bucket size.\n",
    "    total_samples = sum(num_samples_in_buckets)\n",
    "    sampling_probabilities = [count / total_samples for count in num_samples_in_buckets]\n",
    "    \n",
    "    print(f\"\\n--- Combining {len(list_of_datasets)} buckets into a single dataset ---\")\n",
    "    # Use sample_from_datasets to create a single dataset that pulls from the buckets\n",
    "    # according to the specified probabilities.\n",
    "    final_dataset = tf.data.Dataset.sample_from_datasets(\n",
    "        list_of_datasets,\n",
    "        weights=sampling_probabilities\n",
    "    ).prefetch(tf.data.AUTOTUNE) # Add prefetching here for better performance\n",
    "\n",
    "    print(f\"\\n✅ Successfully created a single sampled dataset from {len(list_of_datasets)} buckets.\")\n",
    "    \n",
    "    return final_dataset"
   ]
  },
  {
   "cell_type": "code",
   "execution_count": 14,
   "id": "892fa258",
   "metadata": {
    "execution": {
     "iopub.execute_input": "2025-10-11T15:48:02.678192Z",
     "iopub.status.busy": "2025-10-11T15:48:02.677601Z",
     "iopub.status.idle": "2025-10-11T15:48:05.712224Z",
     "shell.execute_reply": "2025-10-11T15:48:05.711419Z",
     "shell.execute_reply.started": "2025-10-11T15:48:02.678172Z"
    },
    "trusted": true
   },
   "outputs": [
    {
     "name": "stdout",
     "output_type": "stream",
     "text": [
      "\n",
      "--- Creating a tf.data.Dataset for each bucket ---\n",
      "Processing bucket 10 with 52412 pairs...\n"
     ]
    },
    {
     "name": "stderr",
     "output_type": "stream",
     "text": [
      "I0000 00:00:1760197683.537276      37 gpu_device.cc:2022] Created device /job:localhost/replica:0/task:0/device:GPU:0 with 15513 MB memory:  -> device: 0, name: Tesla P100-PCIE-16GB, pci bus id: 0000:00:04.0, compute capability: 6.0\n"
     ]
    },
    {
     "name": "stdout",
     "output_type": "stream",
     "text": [
      "Processing bucket 20 with 41359 pairs...\n",
      "Processing bucket 30 with 804 pairs...\n",
      "Processing bucket 60 with 55 pairs...\n",
      "\n",
      "--- Combining 4 buckets into a single dataset ---\n",
      "\n",
      "✅ Successfully created a single sampled dataset from 4 buckets.\n",
      "\n",
      "--- Creating a tf.data.Dataset for each bucket ---\n",
      "Processing bucket 10 with 13163 pairs...\n",
      "Processing bucket 20 with 10266 pairs...\n",
      "Processing bucket 30 with 208 pairs...\n",
      "Processing bucket 60 with 16 pairs...\n",
      "\n",
      "--- Combining 4 buckets into a single dataset ---\n",
      "\n",
      "✅ Successfully created a single sampled dataset from 4 buckets.\n"
     ]
    }
   ],
   "source": [
    "train_ds = create_final_dataset_from_buckets(\n",
    "    train_buckets_eng,\n",
    "    train_buckets_esp,\n",
    "    BUCKETS,\n",
    "    128,\n",
    "    mode=\"train\"\n",
    ")\n",
    "\n",
    "val_ds = create_final_dataset_from_buckets(\n",
    "    val_buckets_eng,\n",
    "    val_buckets_esp,\n",
    "    BUCKETS,\n",
    "    128,\n",
    "    mode=\"val\"\n",
    ")"
   ]
  },
  {
   "cell_type": "code",
   "execution_count": 12,
   "id": "071ba00e",
   "metadata": {
    "execution": {
     "iopub.execute_input": "2025-10-16T07:46:20.946691Z",
     "iopub.status.busy": "2025-10-16T07:46:20.946114Z",
     "iopub.status.idle": "2025-10-16T07:46:21.736932Z",
     "shell.execute_reply": "2025-10-16T07:46:21.735934Z",
     "shell.execute_reply.started": "2025-10-16T07:46:20.946670Z"
    },
    "trusted": true
   },
   "outputs": [
    {
     "name": "stderr",
     "output_type": "stream",
     "text": [
      "I0000 00:00:1760600781.643325      37 gpu_device.cc:2022] Created device /job:localhost/replica:0/task:0/device:GPU:0 with 15513 MB memory:  -> device: 0, name: Tesla P100-PCIE-16GB, pci bus id: 0000:00:04.0, compute capability: 6.0\n"
     ]
    }
   ],
   "source": [
    "# Create a generator function that yields the correct inputs and targets\n",
    "def data_generator(en_tokens, hi_tokens):\n",
    "    def gen():\n",
    "        for en, hi in zip(en_tokens, hi_tokens):\n",
    "            yield (en, hi[:-1], hi[1:])\n",
    "    return gen\n",
    "\n",
    "# Create the raw training dataset from the generator\n",
    "train_dataset_raw = tf.data.Dataset.from_generator(\n",
    "    data_generator(eng_train_tokens, esp_train_tokens),\n",
    "    output_signature=(\n",
    "        tf.TensorSpec(shape=(None,), dtype=tf.int64),\n",
    "        tf.TensorSpec(shape=(None,), dtype=tf.int64),\n",
    "        tf.TensorSpec(shape=(None,), dtype=tf.int64),\n",
    "    )\n",
    ")\n",
    "\n",
    "# Create the raw validation dataset from the generator\n",
    "valid_dataset_raw = tf.data.Dataset.from_generator(\n",
    "    data_generator(eng_valid_tokens, esp_valid_tokens),\n",
    "    output_signature=(\n",
    "        tf.TensorSpec(shape=(None,), dtype=tf.int64),\n",
    "        tf.TensorSpec(shape=(None,), dtype=tf.int64),\n",
    "        tf.TensorSpec(shape=(None,), dtype=tf.int64),\n",
    "    )\n",
    ")"
   ]
  },
  {
   "cell_type": "code",
   "execution_count": 13,
   "id": "67ecacde",
   "metadata": {
    "execution": {
     "iopub.execute_input": "2025-10-16T07:46:30.696254Z",
     "iopub.status.busy": "2025-10-16T07:46:30.695939Z",
     "iopub.status.idle": "2025-10-16T07:46:32.356551Z",
     "shell.execute_reply": "2025-10-16T07:46:32.355750Z",
     "shell.execute_reply.started": "2025-10-16T07:46:30.696232Z"
    },
    "trusted": true
   },
   "outputs": [
    {
     "name": "stdout",
     "output_type": "stream",
     "text": [
      "Data pipelines created successfully using the stable API.\n"
     ]
    }
   ],
   "source": [
    "# --- This is the corrected code ---\n",
    "\n",
    "BATCH_SIZE = 64\n",
    "BUFFER_SIZE = 20000\n",
    "\n",
    "# This function tells the bucketing mechanism how to measure the length\n",
    "def element_length_func(en, hi_in, hi_out):\n",
    "    return tf.shape(en)[0]\n",
    "\n",
    "# This formats the output of the dataset to match the model's input names\n",
    "def format_dataset(en, hi_in, hi_out):\n",
    "    return ({\"encoder_inputs\": en, \"decoder_inputs\": hi_in}, hi_out)\n",
    "\n",
    "# Define bucket boundaries and the batch size for each bucket\n",
    "bucket_boundaries = [10, 20, 30, 60]\n",
    "bucket_batch_sizes = [BATCH_SIZE, BATCH_SIZE, BATCH_SIZE, BATCH_SIZE, BATCH_SIZE]\n",
    "\n",
    "# Create the final training dataset using the new, stable API\n",
    "train_ds = train_dataset_raw.shuffle(BUFFER_SIZE).bucket_by_sequence_length(\n",
    "    element_length_func=element_length_func,\n",
    "    bucket_boundaries=bucket_boundaries,\n",
    "    bucket_batch_sizes=bucket_batch_sizes,\n",
    "    # The padding arguments are still needed to create dense batches\n",
    "    padding_values=(\n",
    "        tf.constant(0, dtype=tf.int64), # pad encoder inputs with 0\n",
    "        tf.constant(0, dtype=tf.int64), # pad decoder inputs with 0\n",
    "        tf.constant(0, dtype=tf.int64)  # pad decoder targets with 0\n",
    "    ),\n",
    "    drop_remainder=True # Ensures all batches have a fixed size\n",
    ").map(format_dataset, num_parallel_calls=tf.data.AUTOTUNE).prefetch(tf.data.AUTOTUNE)\n",
    "\n",
    "# Create the final validation dataset (no shuffling)\n",
    "valid_ds = valid_dataset_raw.bucket_by_sequence_length(\n",
    "    element_length_func=element_length_func,\n",
    "    bucket_boundaries=bucket_boundaries,\n",
    "    bucket_batch_sizes=bucket_batch_sizes,\n",
    "    padding_values=(\n",
    "        tf.constant(0, dtype=tf.int64),\n",
    "        tf.constant(0, dtype=tf.int64),\n",
    "        tf.constant(0, dtype=tf.int64)\n",
    "    ),\n",
    "    drop_remainder=True\n",
    ").map(format_dataset, num_parallel_calls=tf.data.AUTOTUNE).prefetch(tf.data.AUTOTUNE)\n",
    "\n",
    "print(\"Data pipelines created successfully using the stable API.\")"
   ]
  },
  {
   "cell_type": "code",
   "execution_count": 17,
   "id": "f8bbc97a",
   "metadata": {
    "execution": {
     "iopub.execute_input": "2025-10-16T07:46:35.758046Z",
     "iopub.status.busy": "2025-10-16T07:46:35.757483Z",
     "iopub.status.idle": "2025-10-16T07:46:35.764670Z",
     "shell.execute_reply": "2025-10-16T07:46:35.764122Z",
     "shell.execute_reply.started": "2025-10-16T07:46:35.758025Z"
    },
    "trusted": true
   },
   "outputs": [],
   "source": [
    "class PositionalEmbedding(Layer):\n",
    "    def __init__(self, sequence_length, embed_dim, **kwargs):\n",
    "        super(PositionalEmbedding, self).__init__(**kwargs)\n",
    "\n",
    "        self.max_len = sequence_length\n",
    "        self.d_model = embed_dim\n",
    "\n",
    "        # Compute the angles: [max_len, d_model]\n",
    "        pos = tf.range(sequence_length, dtype=tf.float32)[:, tf.newaxis]        # [L, 1]\n",
    "        i = tf.range(embed_dim, dtype=tf.float32)[tf.newaxis, :]                # [1, D]\n",
    "        angle_rates = 1.0 / tf.pow(10000.0, (2.0 * (i // 2)) / embed_dim)       # [1, D]\n",
    "        angle_rads  = pos * angle_rates                                         # [L, D]\n",
    "\n",
    "        # Apply sin to even indices; cos to odd indices (no in-place writes)\n",
    "        sines   = tf.sin(angle_rads[:, 0::2])                              # [L, D/2]\n",
    "        cosines = tf.cos(angle_rads[:, 1::2])                              # [L, D/2]\n",
    "\n",
    "        # Interleave even/odd back to [L, D]\n",
    "        # stack -> [L, D/2, 2]  -> reshape -> [L, D]\n",
    "        pos_encoding = tf.reshape(\n",
    "            tf.stack([sines, cosines], axis=-1),\n",
    "            [sequence_length, embed_dim]\n",
    "        )\n",
    "        self.pos_encoding = tf.cast(pos_encoding, tf.float32)\n",
    "\n",
    "    def call(self, inputs):\n",
    "        # inputs: [B, T, D]\n",
    "        seq_len = tf.shape(inputs)[1]\n",
    "        return inputs + self.pos_encoding[tf.newaxis, :seq_len, :] # broadcasts over batch\n",
    "        "
   ]
  },
  {
   "cell_type": "code",
   "execution_count": 18,
   "id": "d44c853a",
   "metadata": {
    "execution": {
     "iopub.execute_input": "2025-10-16T07:46:37.804511Z",
     "iopub.status.busy": "2025-10-16T07:46:37.803967Z",
     "iopub.status.idle": "2025-10-16T07:46:37.810138Z",
     "shell.execute_reply": "2025-10-16T07:46:37.809425Z",
     "shell.execute_reply.started": "2025-10-16T07:46:37.804487Z"
    },
    "trusted": true
   },
   "outputs": [],
   "source": [
    "class TransformerEncoder(Layer):\n",
    "    def __init__(self, embed_dim, num_heads, ff_dim, drop_rate=0.2, **kwargs):\n",
    "        super(TransformerEncoder, self).__init__(**kwargs)\n",
    "        self.att = MultiHeadAttention(\n",
    "            num_heads=num_heads, key_dim=embed_dim\n",
    "        )\n",
    "        self.ffn = Sequential(\n",
    "            [\n",
    "                Dense(ff_dim, activation=\"relu\"),\n",
    "                Dense(embed_dim),\n",
    "            ]\n",
    "        )\n",
    "\n",
    "        self.layernorm1 = LayerNormalization(epsilon=1e-6)\n",
    "        self.layernorm2 = LayerNormalization(epsilon=1e-6)\n",
    "\n",
    "        self.dropout1 = Dropout(drop_rate)\n",
    "        self.dropout2 = Dropout(drop_rate)\n",
    "\n",
    "    def call(self, inputs, training=False):\n",
    "        # Sub layer 1\n",
    "        attn_output = self.att(inputs, inputs)\n",
    "        attn_output = self.dropout1(attn_output, training=training)\n",
    "        out1 = self.layernorm1(inputs + attn_output)\n",
    "\n",
    "        # Sub layer 2\n",
    "        ffn_output = self.ffn(out1)\n",
    "        ffn_output = self.dropout2(ffn_output, training=training)\n",
    "        out2 = self.layernorm2(out1 + ffn_output)\n",
    "\n",
    "        return out2"
   ]
  },
  {
   "cell_type": "code",
   "execution_count": 19,
   "id": "68ab8617",
   "metadata": {
    "execution": {
     "iopub.execute_input": "2025-10-16T07:46:39.783154Z",
     "iopub.status.busy": "2025-10-16T07:46:39.782771Z",
     "iopub.status.idle": "2025-10-16T07:46:39.792717Z",
     "shell.execute_reply": "2025-10-16T07:46:39.792169Z",
     "shell.execute_reply.started": "2025-10-16T07:46:39.783120Z"
    },
    "trusted": true
   },
   "outputs": [],
   "source": [
    "# Minor fix to prevent a potential \"UnboundLocalError\" if no mask is passed\n",
    "class TransformerDecoder(Layer):\n",
    "    def __init__(self, embed_dim, ff_dim, num_heads, **kwargs):\n",
    "        super(TransformerDecoder, self).__init__(**kwargs)\n",
    "        self.embed_dim = embed_dim\n",
    "        self.ff_dim = ff_dim\n",
    "        self.num_heads = num_heads\n",
    "\n",
    "        self.attention_1 = MultiHeadAttention(\n",
    "            num_heads=num_heads,\n",
    "            key_dim=embed_dim\n",
    "        )\n",
    "        self.attention_2 = MultiHeadAttention(\n",
    "            num_heads=num_heads,\n",
    "            key_dim=embed_dim\n",
    "        )\n",
    "        self.dense_proj = Sequential([\n",
    "            Dense(ff_dim, activation=\"relu\"),\n",
    "            Dense(embed_dim),\n",
    "        ])\n",
    "        \n",
    "        self.layernorm_1 = LayerNormalization()\n",
    "        self.layernorm_2 = LayerNormalization()\n",
    "        self.layernorm_3 = LayerNormalization()\n",
    "        self.supports_masking = True\n",
    "        \n",
    "    def call(self, inputs, encoder_outputs, mask = None):\n",
    "        causal_mask = self.get_causal_attention_mask(inputs)\n",
    "        padding_mask = None # Initialize padding_mask to None\n",
    "        if mask is not None:\n",
    "            padding_mask = tf.cast(mask[:, tf.newaxis, :], dtype=\"int32\")\n",
    "            padding_mask = tf.minimum(padding_mask, causal_mask)\n",
    "\n",
    "        attention_output_1 = self.attention_1(\n",
    "            query=inputs, \n",
    "            value=inputs, \n",
    "            key=inputs, \n",
    "            attention_mask=causal_mask\n",
    "        )\n",
    "        out_1 = self.layernorm_1(inputs + attention_output_1)\n",
    "        \n",
    "        attention_output_2 = self.attention_2(\n",
    "            query=out_1, \n",
    "            value=encoder_outputs, \n",
    "            key=encoder_outputs, \n",
    "            attention_mask=padding_mask\n",
    "        )\n",
    "        out_2 = self.layernorm_2(out_1 + attention_output_2)\n",
    "        \n",
    "        proj_output = self.dense_proj(out_2)\n",
    "        out_3 = self.layernorm_3(out_2 + proj_output)\n",
    "\n",
    "        return out_3\n",
    "    \n",
    "    def get_causal_attention_mask(self, inputs):\n",
    "        input_shape = tf.shape(inputs)\n",
    "        batch_size, sequence_length = input_shape[0], input_shape[1]\n",
    "        i = tf.range(sequence_length)[:, tf.newaxis]\n",
    "        j = tf.range(sequence_length)\n",
    "        mask = tf.cast(i >= j, dtype=\"int32\")\n",
    "        mask = tf.reshape(mask, (1, input_shape[1], input_shape[1]))\n",
    "        mult = tf.concat(\n",
    "            [tf.expand_dims(batch_size, -1), tf.constant([1, 1], dtype=tf.int32)],\n",
    "            axis=0\n",
    "        )\n",
    "        return tf.tile(mask, mult)"
   ]
  },
  {
   "cell_type": "code",
   "execution_count": 20,
   "id": "7ca3ef0e",
   "metadata": {
    "execution": {
     "iopub.execute_input": "2025-10-16T07:46:43.142415Z",
     "iopub.status.busy": "2025-10-16T07:46:43.141654Z",
     "iopub.status.idle": "2025-10-16T07:46:43.147306Z",
     "shell.execute_reply": "2025-10-16T07:46:43.146609Z",
     "shell.execute_reply.started": "2025-10-16T07:46:43.142388Z"
    },
    "trusted": true
   },
   "outputs": [],
   "source": [
    "import tensorflow as tf\n",
    "\n",
    "class CustomSchedule(tf.keras.optimizers.schedules.LearningRateSchedule):\n",
    "    def __init__(self, d_model, warmup_steps=4000):\n",
    "        super(CustomSchedule, self).__init__()\n",
    "        \n",
    "        self.d_model = tf.cast(d_model, tf.float32)\n",
    "        self.warmup_steps = warmup_steps\n",
    "        \n",
    "    def __call__(self, step):\n",
    "        # Formula: lrate = d_model**(-0.5) * min(step**(-0.5), step * warmup_steps**(-1.5))\n",
    "        step = tf.cast(step, tf.float32)\n",
    "        \n",
    "        arg1 = tf.math.rsqrt(step) # 1 / sqrt(step)\n",
    "        arg2 = step * (self.warmup_steps ** -1.5)\n",
    "        \n",
    "        return tf.math.rsqrt(self.d_model) * tf.math.minimum(arg1, arg2)"
   ]
  },
  {
   "cell_type": "code",
   "execution_count": 22,
   "id": "c5e34f93",
   "metadata": {
    "execution": {
     "iopub.execute_input": "2025-10-16T07:46:44.979640Z",
     "iopub.status.busy": "2025-10-16T07:46:44.979104Z",
     "iopub.status.idle": "2025-10-16T07:46:44.984272Z",
     "shell.execute_reply": "2025-10-16T07:46:44.983369Z",
     "shell.execute_reply.started": "2025-10-16T07:46:44.979620Z"
    },
    "trusted": true
   },
   "outputs": [],
   "source": [
    "class Config:\n",
    "    \n",
    "    ENC_VOCAB_SIZE = 20000  # Vocabulary size for the source language (English)\n",
    "    DEC_VOCAB_SIZE = 20000  # Vocabulary size for the target language (Hindi)\n",
    "    MIX_VOCAB_SIZE = 32000\n",
    "\n",
    "    # --- 3. Model Architecture Configuration ---\n",
    "    EMBED_DIM = 256             # The dimensionality of the token embeddings.\n",
    "    FF_DIM = 1024               # A common practice is 4 * EMBED_DIM.\n",
    "    NUM_HEADS = 8               # Number of attention heads in the MultiHeadAttention layer. Must be a divisor of EMBED_DIM.\n",
    "\n",
    "    NUM_ENCODER_LAYERS = 4      # Number of TransformerEncoder blocks (not in original code, but a key hyperparameter)\n",
    "    NUM_DECODER_LAYERS = 4      # Number of TransformerDecoder blocks (not in original code, but a key hyperparameter)\n",
    "    \n",
    "    # --- 4. Regularization ---\n",
    "    DROPOUT_RATE = 0.2          # Dropout rate used in the Transformer blocks.\n",
    "    \n",
    "    # --- 5. Data Pipeline and Training Configuration ---\n",
    "    MAX_LENGTH = 128            # The maximum sequence length for filtering and padding.\n",
    "    BATCH_SIZE = 64             # The number of sequences in a single batch.\n",
    "    BUFFER_SIZE = 20000         # The buffer size for shuffling the dataset.\n",
    "    \n",
    "    EPOCHS = 150                 # Number of epochs to train the model for.\n",
    "    \n",
    "    WARMUP_STEPS = 4000\n",
    "\n",
    "    IS_TRAINING = False\n",
    "\n",
    "config = Config()"
   ]
  },
  {
   "cell_type": "code",
   "execution_count": 23,
   "id": "52a9a0ac",
   "metadata": {
    "execution": {
     "iopub.execute_input": "2025-10-16T07:46:49.462834Z",
     "iopub.status.busy": "2025-10-16T07:46:49.462332Z",
     "iopub.status.idle": "2025-10-16T07:46:52.871459Z",
     "shell.execute_reply": "2025-10-16T07:46:52.870907Z",
     "shell.execute_reply.started": "2025-10-16T07:46:49.462805Z"
    },
    "trusted": true
   },
   "outputs": [
    {
     "data": {
      "text/html": [
       "<pre style=\"white-space:pre;overflow-x:auto;line-height:normal;font-family:Menlo,'DejaVu Sans Mono',consolas,'Courier New',monospace\"><span style=\"font-weight: bold\">Model: \"transformer_stacked\"</span>\n",
       "</pre>\n"
      ],
      "text/plain": [
       "\u001b[1mModel: \"transformer_stacked\"\u001b[0m\n"
      ]
     },
     "metadata": {},
     "output_type": "display_data"
    },
    {
     "data": {
      "text/html": [
       "<pre style=\"white-space:pre;overflow-x:auto;line-height:normal;font-family:Menlo,'DejaVu Sans Mono',consolas,'Courier New',monospace\">┏━━━━━━━━━━━━━━━━━━━━━┳━━━━━━━━━━━━━━━━━━━┳━━━━━━━━━━━━┳━━━━━━━━━━━━━━━━━━━┓\n",
       "┃<span style=\"font-weight: bold\"> Layer (type)        </span>┃<span style=\"font-weight: bold\"> Output Shape      </span>┃<span style=\"font-weight: bold\">    Param # </span>┃<span style=\"font-weight: bold\"> Connected to      </span>┃\n",
       "┡━━━━━━━━━━━━━━━━━━━━━╇━━━━━━━━━━━━━━━━━━━╇━━━━━━━━━━━━╇━━━━━━━━━━━━━━━━━━━┩\n",
       "│ encoder_inputs      │ (<span style=\"color: #00d7ff; text-decoration-color: #00d7ff\">None</span>, <span style=\"color: #00d7ff; text-decoration-color: #00d7ff\">None</span>)      │          <span style=\"color: #00af00; text-decoration-color: #00af00\">0</span> │ -                 │\n",
       "│ (<span style=\"color: #0087ff; text-decoration-color: #0087ff\">InputLayer</span>)        │                   │            │                   │\n",
       "├─────────────────────┼───────────────────┼────────────┼───────────────────┤\n",
       "│ encoder_embedding   │ (<span style=\"color: #00d7ff; text-decoration-color: #00d7ff\">None</span>, <span style=\"color: #00d7ff; text-decoration-color: #00d7ff\">None</span>, <span style=\"color: #00af00; text-decoration-color: #00af00\">256</span>) │  <span style=\"color: #00af00; text-decoration-color: #00af00\">8,192,000</span> │ encoder_inputs[<span style=\"color: #00af00; text-decoration-color: #00af00\">0</span>… │\n",
       "│ (<span style=\"color: #0087ff; text-decoration-color: #0087ff\">Embedding</span>)         │                   │            │                   │\n",
       "├─────────────────────┼───────────────────┼────────────┼───────────────────┤\n",
       "│ encoder_positional… │ (<span style=\"color: #00d7ff; text-decoration-color: #00d7ff\">None</span>, <span style=\"color: #00d7ff; text-decoration-color: #00d7ff\">None</span>, <span style=\"color: #00af00; text-decoration-color: #00af00\">256</span>) │          <span style=\"color: #00af00; text-decoration-color: #00af00\">0</span> │ encoder_embeddin… │\n",
       "│ (<span style=\"color: #0087ff; text-decoration-color: #0087ff\">PositionalEmbeddi…</span> │                   │            │                   │\n",
       "├─────────────────────┼───────────────────┼────────────┼───────────────────┤\n",
       "│ dropout (<span style=\"color: #0087ff; text-decoration-color: #0087ff\">Dropout</span>)   │ (<span style=\"color: #00d7ff; text-decoration-color: #00d7ff\">None</span>, <span style=\"color: #00d7ff; text-decoration-color: #00d7ff\">None</span>, <span style=\"color: #00af00; text-decoration-color: #00af00\">256</span>) │          <span style=\"color: #00af00; text-decoration-color: #00af00\">0</span> │ encoder_position… │\n",
       "├─────────────────────┼───────────────────┼────────────┼───────────────────┤\n",
       "│ transformer_encode… │ (<span style=\"color: #00d7ff; text-decoration-color: #00d7ff\">None</span>, <span style=\"color: #00d7ff; text-decoration-color: #00d7ff\">None</span>, <span style=\"color: #00af00; text-decoration-color: #00af00\">256</span>) │  <span style=\"color: #00af00; text-decoration-color: #00af00\">2,630,144</span> │ dropout[<span style=\"color: #00af00; text-decoration-color: #00af00\">0</span>][<span style=\"color: #00af00; text-decoration-color: #00af00\">0</span>]     │\n",
       "│ (<span style=\"color: #0087ff; text-decoration-color: #0087ff\">TransformerEncode…</span> │                   │            │                   │\n",
       "├─────────────────────┼───────────────────┼────────────┼───────────────────┤\n",
       "│ decoder_inputs      │ (<span style=\"color: #00d7ff; text-decoration-color: #00d7ff\">None</span>, <span style=\"color: #00d7ff; text-decoration-color: #00d7ff\">None</span>)      │          <span style=\"color: #00af00; text-decoration-color: #00af00\">0</span> │ -                 │\n",
       "│ (<span style=\"color: #0087ff; text-decoration-color: #0087ff\">InputLayer</span>)        │                   │            │                   │\n",
       "├─────────────────────┼───────────────────┼────────────┼───────────────────┤\n",
       "│ transformer_encode… │ (<span style=\"color: #00d7ff; text-decoration-color: #00d7ff\">None</span>, <span style=\"color: #00d7ff; text-decoration-color: #00d7ff\">None</span>, <span style=\"color: #00af00; text-decoration-color: #00af00\">256</span>) │  <span style=\"color: #00af00; text-decoration-color: #00af00\">2,630,144</span> │ transformer_enco… │\n",
       "│ (<span style=\"color: #0087ff; text-decoration-color: #0087ff\">TransformerEncode…</span> │                   │            │                   │\n",
       "├─────────────────────┼───────────────────┼────────────┼───────────────────┤\n",
       "│ decoder_embedding   │ (<span style=\"color: #00d7ff; text-decoration-color: #00d7ff\">None</span>, <span style=\"color: #00d7ff; text-decoration-color: #00d7ff\">None</span>, <span style=\"color: #00af00; text-decoration-color: #00af00\">256</span>) │  <span style=\"color: #00af00; text-decoration-color: #00af00\">8,192,000</span> │ decoder_inputs[<span style=\"color: #00af00; text-decoration-color: #00af00\">0</span>… │\n",
       "│ (<span style=\"color: #0087ff; text-decoration-color: #0087ff\">Embedding</span>)         │                   │            │                   │\n",
       "├─────────────────────┼───────────────────┼────────────┼───────────────────┤\n",
       "│ transformer_encode… │ (<span style=\"color: #00d7ff; text-decoration-color: #00d7ff\">None</span>, <span style=\"color: #00d7ff; text-decoration-color: #00d7ff\">None</span>, <span style=\"color: #00af00; text-decoration-color: #00af00\">256</span>) │  <span style=\"color: #00af00; text-decoration-color: #00af00\">2,630,144</span> │ transformer_enco… │\n",
       "│ (<span style=\"color: #0087ff; text-decoration-color: #0087ff\">TransformerEncode…</span> │                   │            │                   │\n",
       "├─────────────────────┼───────────────────┼────────────┼───────────────────┤\n",
       "│ decoder_positional… │ (<span style=\"color: #00d7ff; text-decoration-color: #00d7ff\">None</span>, <span style=\"color: #00d7ff; text-decoration-color: #00d7ff\">None</span>, <span style=\"color: #00af00; text-decoration-color: #00af00\">256</span>) │          <span style=\"color: #00af00; text-decoration-color: #00af00\">0</span> │ decoder_embeddin… │\n",
       "│ (<span style=\"color: #0087ff; text-decoration-color: #0087ff\">PositionalEmbeddi…</span> │                   │            │                   │\n",
       "├─────────────────────┼───────────────────┼────────────┼───────────────────┤\n",
       "│ transformer_encode… │ (<span style=\"color: #00d7ff; text-decoration-color: #00d7ff\">None</span>, <span style=\"color: #00d7ff; text-decoration-color: #00d7ff\">None</span>, <span style=\"color: #00af00; text-decoration-color: #00af00\">256</span>) │  <span style=\"color: #00af00; text-decoration-color: #00af00\">2,630,144</span> │ transformer_enco… │\n",
       "│ (<span style=\"color: #0087ff; text-decoration-color: #0087ff\">TransformerEncode…</span> │                   │            │                   │\n",
       "├─────────────────────┼───────────────────┼────────────┼───────────────────┤\n",
       "│ dropout_13          │ (<span style=\"color: #00d7ff; text-decoration-color: #00d7ff\">None</span>, <span style=\"color: #00d7ff; text-decoration-color: #00d7ff\">None</span>, <span style=\"color: #00af00; text-decoration-color: #00af00\">256</span>) │          <span style=\"color: #00af00; text-decoration-color: #00af00\">0</span> │ decoder_position… │\n",
       "│ (<span style=\"color: #0087ff; text-decoration-color: #0087ff\">Dropout</span>)           │                   │            │                   │\n",
       "├─────────────────────┼───────────────────┼────────────┼───────────────────┤\n",
       "│ transformer_decode… │ (<span style=\"color: #00d7ff; text-decoration-color: #00d7ff\">None</span>, <span style=\"color: #00d7ff; text-decoration-color: #00d7ff\">None</span>, <span style=\"color: #00af00; text-decoration-color: #00af00\">256</span>) │  <span style=\"color: #00af00; text-decoration-color: #00af00\">4,734,208</span> │ transformer_enco… │\n",
       "│ (<span style=\"color: #0087ff; text-decoration-color: #0087ff\">TransformerDecode…</span> │                   │            │ dropout_13[<span style=\"color: #00af00; text-decoration-color: #00af00\">0</span>][<span style=\"color: #00af00; text-decoration-color: #00af00\">0</span>]  │\n",
       "├─────────────────────┼───────────────────┼────────────┼───────────────────┤\n",
       "│ transformer_decode… │ (<span style=\"color: #00d7ff; text-decoration-color: #00d7ff\">None</span>, <span style=\"color: #00d7ff; text-decoration-color: #00d7ff\">None</span>, <span style=\"color: #00af00; text-decoration-color: #00af00\">256</span>) │  <span style=\"color: #00af00; text-decoration-color: #00af00\">4,734,208</span> │ transformer_enco… │\n",
       "│ (<span style=\"color: #0087ff; text-decoration-color: #0087ff\">TransformerDecode…</span> │                   │            │ transformer_deco… │\n",
       "├─────────────────────┼───────────────────┼────────────┼───────────────────┤\n",
       "│ transformer_decode… │ (<span style=\"color: #00d7ff; text-decoration-color: #00d7ff\">None</span>, <span style=\"color: #00d7ff; text-decoration-color: #00d7ff\">None</span>, <span style=\"color: #00af00; text-decoration-color: #00af00\">256</span>) │  <span style=\"color: #00af00; text-decoration-color: #00af00\">4,734,208</span> │ transformer_enco… │\n",
       "│ (<span style=\"color: #0087ff; text-decoration-color: #0087ff\">TransformerDecode…</span> │                   │            │ transformer_deco… │\n",
       "├─────────────────────┼───────────────────┼────────────┼───────────────────┤\n",
       "│ transformer_decode… │ (<span style=\"color: #00d7ff; text-decoration-color: #00d7ff\">None</span>, <span style=\"color: #00d7ff; text-decoration-color: #00d7ff\">None</span>, <span style=\"color: #00af00; text-decoration-color: #00af00\">256</span>) │  <span style=\"color: #00af00; text-decoration-color: #00af00\">4,734,208</span> │ transformer_enco… │\n",
       "│ (<span style=\"color: #0087ff; text-decoration-color: #0087ff\">TransformerDecode…</span> │                   │            │ transformer_deco… │\n",
       "├─────────────────────┼───────────────────┼────────────┼───────────────────┤\n",
       "│ final_probabilities │ (<span style=\"color: #00d7ff; text-decoration-color: #00d7ff\">None</span>, <span style=\"color: #00d7ff; text-decoration-color: #00d7ff\">None</span>,      │  <span style=\"color: #00af00; text-decoration-color: #00af00\">8,224,000</span> │ transformer_deco… │\n",
       "│ (<span style=\"color: #0087ff; text-decoration-color: #0087ff\">Dense</span>)             │ <span style=\"color: #00af00; text-decoration-color: #00af00\">32000</span>)            │            │                   │\n",
       "└─────────────────────┴───────────────────┴────────────┴───────────────────┘\n",
       "</pre>\n"
      ],
      "text/plain": [
       "┏━━━━━━━━━━━━━━━━━━━━━┳━━━━━━━━━━━━━━━━━━━┳━━━━━━━━━━━━┳━━━━━━━━━━━━━━━━━━━┓\n",
       "┃\u001b[1m \u001b[0m\u001b[1mLayer (type)       \u001b[0m\u001b[1m \u001b[0m┃\u001b[1m \u001b[0m\u001b[1mOutput Shape     \u001b[0m\u001b[1m \u001b[0m┃\u001b[1m \u001b[0m\u001b[1m   Param #\u001b[0m\u001b[1m \u001b[0m┃\u001b[1m \u001b[0m\u001b[1mConnected to     \u001b[0m\u001b[1m \u001b[0m┃\n",
       "┡━━━━━━━━━━━━━━━━━━━━━╇━━━━━━━━━━━━━━━━━━━╇━━━━━━━━━━━━╇━━━━━━━━━━━━━━━━━━━┩\n",
       "│ encoder_inputs      │ (\u001b[38;5;45mNone\u001b[0m, \u001b[38;5;45mNone\u001b[0m)      │          \u001b[38;5;34m0\u001b[0m │ -                 │\n",
       "│ (\u001b[38;5;33mInputLayer\u001b[0m)        │                   │            │                   │\n",
       "├─────────────────────┼───────────────────┼────────────┼───────────────────┤\n",
       "│ encoder_embedding   │ (\u001b[38;5;45mNone\u001b[0m, \u001b[38;5;45mNone\u001b[0m, \u001b[38;5;34m256\u001b[0m) │  \u001b[38;5;34m8,192,000\u001b[0m │ encoder_inputs[\u001b[38;5;34m0\u001b[0m… │\n",
       "│ (\u001b[38;5;33mEmbedding\u001b[0m)         │                   │            │                   │\n",
       "├─────────────────────┼───────────────────┼────────────┼───────────────────┤\n",
       "│ encoder_positional… │ (\u001b[38;5;45mNone\u001b[0m, \u001b[38;5;45mNone\u001b[0m, \u001b[38;5;34m256\u001b[0m) │          \u001b[38;5;34m0\u001b[0m │ encoder_embeddin… │\n",
       "│ (\u001b[38;5;33mPositionalEmbeddi…\u001b[0m │                   │            │                   │\n",
       "├─────────────────────┼───────────────────┼────────────┼───────────────────┤\n",
       "│ dropout (\u001b[38;5;33mDropout\u001b[0m)   │ (\u001b[38;5;45mNone\u001b[0m, \u001b[38;5;45mNone\u001b[0m, \u001b[38;5;34m256\u001b[0m) │          \u001b[38;5;34m0\u001b[0m │ encoder_position… │\n",
       "├─────────────────────┼───────────────────┼────────────┼───────────────────┤\n",
       "│ transformer_encode… │ (\u001b[38;5;45mNone\u001b[0m, \u001b[38;5;45mNone\u001b[0m, \u001b[38;5;34m256\u001b[0m) │  \u001b[38;5;34m2,630,144\u001b[0m │ dropout[\u001b[38;5;34m0\u001b[0m][\u001b[38;5;34m0\u001b[0m]     │\n",
       "│ (\u001b[38;5;33mTransformerEncode…\u001b[0m │                   │            │                   │\n",
       "├─────────────────────┼───────────────────┼────────────┼───────────────────┤\n",
       "│ decoder_inputs      │ (\u001b[38;5;45mNone\u001b[0m, \u001b[38;5;45mNone\u001b[0m)      │          \u001b[38;5;34m0\u001b[0m │ -                 │\n",
       "│ (\u001b[38;5;33mInputLayer\u001b[0m)        │                   │            │                   │\n",
       "├─────────────────────┼───────────────────┼────────────┼───────────────────┤\n",
       "│ transformer_encode… │ (\u001b[38;5;45mNone\u001b[0m, \u001b[38;5;45mNone\u001b[0m, \u001b[38;5;34m256\u001b[0m) │  \u001b[38;5;34m2,630,144\u001b[0m │ transformer_enco… │\n",
       "│ (\u001b[38;5;33mTransformerEncode…\u001b[0m │                   │            │                   │\n",
       "├─────────────────────┼───────────────────┼────────────┼───────────────────┤\n",
       "│ decoder_embedding   │ (\u001b[38;5;45mNone\u001b[0m, \u001b[38;5;45mNone\u001b[0m, \u001b[38;5;34m256\u001b[0m) │  \u001b[38;5;34m8,192,000\u001b[0m │ decoder_inputs[\u001b[38;5;34m0\u001b[0m… │\n",
       "│ (\u001b[38;5;33mEmbedding\u001b[0m)         │                   │            │                   │\n",
       "├─────────────────────┼───────────────────┼────────────┼───────────────────┤\n",
       "│ transformer_encode… │ (\u001b[38;5;45mNone\u001b[0m, \u001b[38;5;45mNone\u001b[0m, \u001b[38;5;34m256\u001b[0m) │  \u001b[38;5;34m2,630,144\u001b[0m │ transformer_enco… │\n",
       "│ (\u001b[38;5;33mTransformerEncode…\u001b[0m │                   │            │                   │\n",
       "├─────────────────────┼───────────────────┼────────────┼───────────────────┤\n",
       "│ decoder_positional… │ (\u001b[38;5;45mNone\u001b[0m, \u001b[38;5;45mNone\u001b[0m, \u001b[38;5;34m256\u001b[0m) │          \u001b[38;5;34m0\u001b[0m │ decoder_embeddin… │\n",
       "│ (\u001b[38;5;33mPositionalEmbeddi…\u001b[0m │                   │            │                   │\n",
       "├─────────────────────┼───────────────────┼────────────┼───────────────────┤\n",
       "│ transformer_encode… │ (\u001b[38;5;45mNone\u001b[0m, \u001b[38;5;45mNone\u001b[0m, \u001b[38;5;34m256\u001b[0m) │  \u001b[38;5;34m2,630,144\u001b[0m │ transformer_enco… │\n",
       "│ (\u001b[38;5;33mTransformerEncode…\u001b[0m │                   │            │                   │\n",
       "├─────────────────────┼───────────────────┼────────────┼───────────────────┤\n",
       "│ dropout_13          │ (\u001b[38;5;45mNone\u001b[0m, \u001b[38;5;45mNone\u001b[0m, \u001b[38;5;34m256\u001b[0m) │          \u001b[38;5;34m0\u001b[0m │ decoder_position… │\n",
       "│ (\u001b[38;5;33mDropout\u001b[0m)           │                   │            │                   │\n",
       "├─────────────────────┼───────────────────┼────────────┼───────────────────┤\n",
       "│ transformer_decode… │ (\u001b[38;5;45mNone\u001b[0m, \u001b[38;5;45mNone\u001b[0m, \u001b[38;5;34m256\u001b[0m) │  \u001b[38;5;34m4,734,208\u001b[0m │ transformer_enco… │\n",
       "│ (\u001b[38;5;33mTransformerDecode…\u001b[0m │                   │            │ dropout_13[\u001b[38;5;34m0\u001b[0m][\u001b[38;5;34m0\u001b[0m]  │\n",
       "├─────────────────────┼───────────────────┼────────────┼───────────────────┤\n",
       "│ transformer_decode… │ (\u001b[38;5;45mNone\u001b[0m, \u001b[38;5;45mNone\u001b[0m, \u001b[38;5;34m256\u001b[0m) │  \u001b[38;5;34m4,734,208\u001b[0m │ transformer_enco… │\n",
       "│ (\u001b[38;5;33mTransformerDecode…\u001b[0m │                   │            │ transformer_deco… │\n",
       "├─────────────────────┼───────────────────┼────────────┼───────────────────┤\n",
       "│ transformer_decode… │ (\u001b[38;5;45mNone\u001b[0m, \u001b[38;5;45mNone\u001b[0m, \u001b[38;5;34m256\u001b[0m) │  \u001b[38;5;34m4,734,208\u001b[0m │ transformer_enco… │\n",
       "│ (\u001b[38;5;33mTransformerDecode…\u001b[0m │                   │            │ transformer_deco… │\n",
       "├─────────────────────┼───────────────────┼────────────┼───────────────────┤\n",
       "│ transformer_decode… │ (\u001b[38;5;45mNone\u001b[0m, \u001b[38;5;45mNone\u001b[0m, \u001b[38;5;34m256\u001b[0m) │  \u001b[38;5;34m4,734,208\u001b[0m │ transformer_enco… │\n",
       "│ (\u001b[38;5;33mTransformerDecode…\u001b[0m │                   │            │ transformer_deco… │\n",
       "├─────────────────────┼───────────────────┼────────────┼───────────────────┤\n",
       "│ final_probabilities │ (\u001b[38;5;45mNone\u001b[0m, \u001b[38;5;45mNone\u001b[0m,      │  \u001b[38;5;34m8,224,000\u001b[0m │ transformer_deco… │\n",
       "│ (\u001b[38;5;33mDense\u001b[0m)             │ \u001b[38;5;34m32000\u001b[0m)            │            │                   │\n",
       "└─────────────────────┴───────────────────┴────────────┴───────────────────┘\n"
      ]
     },
     "metadata": {},
     "output_type": "display_data"
    },
    {
     "data": {
      "text/html": [
       "<pre style=\"white-space:pre;overflow-x:auto;line-height:normal;font-family:Menlo,'DejaVu Sans Mono',consolas,'Courier New',monospace\"><span style=\"font-weight: bold\"> Total params: </span><span style=\"color: #00af00; text-decoration-color: #00af00\">54,065,408</span> (206.24 MB)\n",
       "</pre>\n"
      ],
      "text/plain": [
       "\u001b[1m Total params: \u001b[0m\u001b[38;5;34m54,065,408\u001b[0m (206.24 MB)\n"
      ]
     },
     "metadata": {},
     "output_type": "display_data"
    },
    {
     "data": {
      "text/html": [
       "<pre style=\"white-space:pre;overflow-x:auto;line-height:normal;font-family:Menlo,'DejaVu Sans Mono',consolas,'Courier New',monospace\"><span style=\"font-weight: bold\"> Trainable params: </span><span style=\"color: #00af00; text-decoration-color: #00af00\">54,065,408</span> (206.24 MB)\n",
       "</pre>\n"
      ],
      "text/plain": [
       "\u001b[1m Trainable params: \u001b[0m\u001b[38;5;34m54,065,408\u001b[0m (206.24 MB)\n"
      ]
     },
     "metadata": {},
     "output_type": "display_data"
    },
    {
     "data": {
      "text/html": [
       "<pre style=\"white-space:pre;overflow-x:auto;line-height:normal;font-family:Menlo,'DejaVu Sans Mono',consolas,'Courier New',monospace\"><span style=\"font-weight: bold\"> Non-trainable params: </span><span style=\"color: #00af00; text-decoration-color: #00af00\">0</span> (0.00 B)\n",
       "</pre>\n"
      ],
      "text/plain": [
       "\u001b[1m Non-trainable params: \u001b[0m\u001b[38;5;34m0\u001b[0m (0.00 B)\n"
      ]
     },
     "metadata": {},
     "output_type": "display_data"
    }
   ],
   "source": [
    "def get_transformer(config):\n",
    "    # --- ENCODER ---\n",
    "    encoder_inputs = Input(shape=(None,), dtype=\"int64\", name=\"encoder_inputs\")\n",
    "    \n",
    "    # Embedding layers (no change here)\n",
    "    encoder_embedding_layer = Embedding(config.MIX_VOCAB_SIZE, config.EMBED_DIM, name=\"encoder_embedding\")\n",
    "    encoder_pos_embedding_layer = PositionalEmbedding(config.MAX_LENGTH, config.EMBED_DIM, name=\"encoder_positional_embedding\")\n",
    "\n",
    "    # Initial input processing (no change here)\n",
    "    x = encoder_embedding_layer(encoder_inputs)\n",
    "    x = encoder_pos_embedding_layer(x)\n",
    "    x = Dropout(config.DROPOUT_RATE)(x)\n",
    "\n",
    "    # --- STACKING THE ENCODERS ---\n",
    "    # Create N encoder layers and pass the output of one to the next.\n",
    "    for i in range(config.NUM_ENCODER_LAYERS):\n",
    "        x = TransformerEncoder(\n",
    "            embed_dim=config.EMBED_DIM,\n",
    "            num_heads=config.NUM_HEADS,\n",
    "            ff_dim=config.FF_DIM,\n",
    "            drop_rate=config.DROPOUT_RATE,\n",
    "            name=f\"transformer_encoder_layer_{i+1}\"\n",
    "        )(x)\n",
    "    \n",
    "    # The final output of the encoder stack\n",
    "    encoder_outputs = x\n",
    "\n",
    "    # --- DECODER ---\n",
    "    decoder_inputs = Input(shape=(None,), dtype=\"int64\", name=\"decoder_inputs\")\n",
    "    \n",
    "    # Embedding layers for the decoder (no change here)\n",
    "    decoder_embedding_layer = Embedding(config.MIX_VOCAB_SIZE, config.EMBED_DIM, name=\"decoder_embedding\")\n",
    "    decoder_pos_embedding_layer = PositionalEmbedding(config.MAX_LENGTH, config.EMBED_DIM, name=\"decoder_positional_embedding\")\n",
    "\n",
    "    # Initial input processing for the decoder (no change here)\n",
    "    x = decoder_embedding_layer(decoder_inputs)\n",
    "    x = decoder_pos_embedding_layer(x)\n",
    "    x = Dropout(config.DROPOUT_RATE)(x)\n",
    "\n",
    "    # --- STACKING THE DECODERS ---\n",
    "    # Create N decoder layers. Each layer receives the output from the previous\n",
    "    # decoder layer AND the final output of the encoder stack.\n",
    "    for i in range(config.NUM_DECODER_LAYERS):\n",
    "        x = TransformerDecoder(\n",
    "            embed_dim=config.EMBED_DIM,\n",
    "            ff_dim=config.FF_DIM,\n",
    "            num_heads=config.NUM_HEADS,\n",
    "            name=f\"transformer_decoder_layer_{i+1}\"\n",
    "        )(inputs=x, encoder_outputs=encoder_outputs) # Pass both inputs here\n",
    "\n",
    "    # Final output layers (no change here)\n",
    "    decoder_outputs = Dense(config.MIX_VOCAB_SIZE, activation=\"softmax\", name=\"final_probabilities\")(x)\n",
    "    \n",
    "    # --- ASSEMBLE AND COMPILE THE FINAL MODEL ---\n",
    "    transformer = Model(\n",
    "        [encoder_inputs, decoder_inputs], decoder_outputs, name=\"transformer_stacked\"\n",
    "    )\n",
    "    \n",
    "\n",
    "\n",
    "    transformer.compile(\n",
    "        optimizer=Adam(\n",
    "            learning_rate=CustomSchedule(config.EMBED_DIM, config.WARMUP_STEPS),\n",
    "            beta_1=0.9, \n",
    "            beta_2=0.98, \n",
    "            epsilon=1e-9\n",
    "        ),\n",
    "        # optimizer=Adam(\n",
    "        #     learning_rate=1e-4, \n",
    "        #     beta_1=0.9, \n",
    "        #     beta_2=0.98, \n",
    "        #     epsilon=1e-9\n",
    "        # ),\n",
    "        loss=\"sparse_categorical_crossentropy\",\n",
    "        metrics=[\"accuracy\"] # Your custom metric can be here\n",
    "    )\n",
    "    return transformer\n",
    "\n",
    "\n",
    "transformer = get_transformer(config)\n",
    "transformer.summary()\n",
    "# keras.utils.plot_model(transformer, show_shapes=True)"
   ]
  },
  {
   "cell_type": "code",
   "execution_count": 24,
   "id": "0ce232da",
   "metadata": {
    "execution": {
     "iopub.execute_input": "2025-10-11T15:48:36.518036Z",
     "iopub.status.busy": "2025-10-11T15:48:36.517374Z",
     "iopub.status.idle": "2025-10-11T15:48:36.523433Z",
     "shell.execute_reply": "2025-10-11T15:48:36.522631Z",
     "shell.execute_reply.started": "2025-10-11T15:48:36.518002Z"
    },
    "trusted": true
   },
   "outputs": [
    {
     "data": {
      "text/plain": [
       "(1479, 370)"
      ]
     },
     "execution_count": 24,
     "metadata": {},
     "output_type": "execute_result"
    }
   ],
   "source": [
    "import math\n",
    "\n",
    "STEPS_PER_EPOCH = math.ceil(94630 / config.BATCH_SIZE)\n",
    "VALIDATION_STEPS = math.ceil(23653 / config.BATCH_SIZE)\n",
    "\n",
    "STEPS_PER_EPOCH, VALIDATION_STEPS"
   ]
  },
  {
   "cell_type": "code",
   "execution_count": null,
   "id": "7240a9ec",
   "metadata": {
    "execution": {
     "iopub.execute_input": "2025-10-16T07:46:57.742484Z",
     "iopub.status.busy": "2025-10-16T07:46:57.742237Z",
     "iopub.status.idle": "2025-10-16T09:39:58.546716Z",
     "shell.execute_reply": "2025-10-16T09:39:58.546101Z",
     "shell.execute_reply.started": "2025-10-16T07:46:57.742467Z"
    },
    "trusted": true
   },
   "outputs": [
    {
     "name": "stdout",
     "output_type": "stream",
     "text": [
      "--- Starting Model Training ---\n",
      "Epoch 1/150\n"
     ]
    },
    {
     "name": "stderr",
     "output_type": "stream",
     "text": [
      "WARNING: All log messages before absl::InitializeLog() is called are written to STDERR\n",
      "I0000 00:00:1760600858.185559     108 service.cc:148] XLA service 0x7bc2fc003520 initialized for platform CUDA (this does not guarantee that XLA will be used). Devices:\n",
      "I0000 00:00:1760600858.186123     108 service.cc:156]   StreamExecutor device (0): Tesla P100-PCIE-16GB, Compute Capability 6.0\n",
      "W0000 00:00:1760600860.395258     108 assert_op.cc:38] Ignoring Assert operator compile_loss/sparse_categorical_crossentropy/SparseSoftmaxCrossEntropyWithLogits/assert_equal_1/Assert/Assert\n",
      "I0000 00:00:1760600862.190470     108 cuda_dnn.cc:529] Loaded cuDNN version 90300\n",
      "I0000 00:00:1760600876.519662     108 device_compiler.h:188] Compiled cluster using XLA!  This line is logged at most once for the lifetime of the process.\n"
     ]
    },
    {
     "name": "stdout",
     "output_type": "stream",
     "text": [
      "      1/Unknown \u001b[1m59s\u001b[0m 59s/step - accuracy: 0.0000e+00 - loss: 10.3920"
     ]
    },
    {
     "name": "stderr",
     "output_type": "stream",
     "text": [
      "W0000 00:00:1760600878.438136     109 assert_op.cc:38] Ignoring Assert operator compile_loss/sparse_categorical_crossentropy/SparseSoftmaxCrossEntropyWithLogits/assert_equal_1/Assert/Assert\n"
     ]
    },
    {
     "name": "stdout",
     "output_type": "stream",
     "text": [
      "      2/Unknown \u001b[1m76s\u001b[0m 17s/step - accuracy: 0.0000e+00 - loss: 10.3931"
     ]
    },
    {
     "name": "stderr",
     "output_type": "stream",
     "text": [
      "W0000 00:00:1760600895.240114     109 assert_op.cc:38] Ignoring Assert operator compile_loss/sparse_categorical_crossentropy/SparseSoftmaxCrossEntropyWithLogits/assert_equal_1/Assert/Assert\n"
     ]
    },
    {
     "name": "stdout",
     "output_type": "stream",
     "text": [
      "      3/Unknown \u001b[1m93s\u001b[0m 17s/step - accuracy: 0.0000e+00 - loss: 10.3921"
     ]
    },
    {
     "name": "stderr",
     "output_type": "stream",
     "text": [
      "W0000 00:00:1760600912.618292     109 assert_op.cc:38] Ignoring Assert operator compile_loss/sparse_categorical_crossentropy/SparseSoftmaxCrossEntropyWithLogits/assert_equal_1/Assert/Assert\n"
     ]
    },
    {
     "name": "stdout",
     "output_type": "stream",
     "text": [
      "      5/Unknown \u001b[1m111s\u001b[0m 13s/step - accuracy: 0.0000e+00 - loss: 10.3905"
     ]
    },
    {
     "name": "stderr",
     "output_type": "stream",
     "text": [
      "W0000 00:00:1760600930.762521     109 assert_op.cc:38] Ignoring Assert operator compile_loss/sparse_categorical_crossentropy/SparseSoftmaxCrossEntropyWithLogits/assert_equal_1/Assert/Assert\n"
     ]
    },
    {
     "name": "stdout",
     "output_type": "stream",
     "text": [
      "      7/Unknown \u001b[1m128s\u001b[0m 12s/step - accuracy: 0.0000e+00 - loss: 10.3895"
     ]
    },
    {
     "name": "stderr",
     "output_type": "stream",
     "text": [
      "W0000 00:00:1760600947.829092     110 assert_op.cc:38] Ignoring Assert operator compile_loss/sparse_categorical_crossentropy/SparseSoftmaxCrossEntropyWithLogits/assert_equal_1/Assert/Assert\n"
     ]
    },
    {
     "name": "stdout",
     "output_type": "stream",
     "text": [
      "     10/Unknown \u001b[1m146s\u001b[0m 10s/step - accuracy: 0.0000e+00 - loss: 10.3873"
     ]
    },
    {
     "name": "stderr",
     "output_type": "stream",
     "text": [
      "W0000 00:00:1760600965.764497     109 assert_op.cc:38] Ignoring Assert operator compile_loss/sparse_categorical_crossentropy/SparseSoftmaxCrossEntropyWithLogits/assert_equal_1/Assert/Assert\n"
     ]
    },
    {
     "name": "stdout",
     "output_type": "stream",
     "text": [
      "     11/Unknown \u001b[1m164s\u001b[0m 10s/step - accuracy: 0.0000e+00 - loss: 10.3863"
     ]
    },
    {
     "name": "stderr",
     "output_type": "stream",
     "text": [
      "W0000 00:00:1760600983.055470     110 assert_op.cc:38] Ignoring Assert operator compile_loss/sparse_categorical_crossentropy/SparseSoftmaxCrossEntropyWithLogits/assert_equal_1/Assert/Assert\n"
     ]
    },
    {
     "name": "stdout",
     "output_type": "stream",
     "text": [
      "     16/Unknown \u001b[1m183s\u001b[0m 8s/step - accuracy: 0.0000e+00 - loss: 10.3800"
     ]
    },
    {
     "name": "stderr",
     "output_type": "stream",
     "text": [
      "W0000 00:00:1760601002.829854     109 assert_op.cc:38] Ignoring Assert operator compile_loss/sparse_categorical_crossentropy/SparseSoftmaxCrossEntropyWithLogits/assert_equal_1/Assert/Assert\n"
     ]
    },
    {
     "name": "stdout",
     "output_type": "stream",
     "text": [
      "     17/Unknown \u001b[1m201s\u001b[0m 9s/step - accuracy: 2.8456e-06 - loss: 10.3785"
     ]
    },
    {
     "name": "stderr",
     "output_type": "stream",
     "text": [
      "W0000 00:00:1760601020.426834     109 assert_op.cc:38] Ignoring Assert operator compile_loss/sparse_categorical_crossentropy/SparseSoftmaxCrossEntropyWithLogits/assert_equal_1/Assert/Assert\n"
     ]
    },
    {
     "name": "stdout",
     "output_type": "stream",
     "text": [
      "     20/Unknown \u001b[1m218s\u001b[0m 8s/step - accuracy: 9.2647e-05 - loss: 10.3727"
     ]
    },
    {
     "name": "stderr",
     "output_type": "stream",
     "text": [
      "W0000 00:00:1760601038.144661     110 assert_op.cc:38] Ignoring Assert operator compile_loss/sparse_categorical_crossentropy/SparseSoftmaxCrossEntropyWithLogits/assert_equal_1/Assert/Assert\n"
     ]
    },
    {
     "name": "stdout",
     "output_type": "stream",
     "text": [
      "     28/Unknown \u001b[1m238s\u001b[0m 7s/step - accuracy: 0.0097 - loss: 10.3536"
     ]
    },
    {
     "name": "stderr",
     "output_type": "stream",
     "text": [
      "W0000 00:00:1760601057.857716     110 assert_op.cc:38] Ignoring Assert operator compile_loss/sparse_categorical_crossentropy/SparseSoftmaxCrossEntropyWithLogits/assert_equal_1/Assert/Assert\n"
     ]
    },
    {
     "name": "stdout",
     "output_type": "stream",
     "text": [
      "     32/Unknown \u001b[1m256s\u001b[0m 6s/step - accuracy: 0.0207 - loss: 10.3420"
     ]
    },
    {
     "name": "stderr",
     "output_type": "stream",
     "text": [
      "W0000 00:00:1760601075.807380     110 assert_op.cc:38] Ignoring Assert operator compile_loss/sparse_categorical_crossentropy/SparseSoftmaxCrossEntropyWithLogits/assert_equal_1/Assert/Assert\n"
     ]
    },
    {
     "name": "stdout",
     "output_type": "stream",
     "text": [
      "     36/Unknown \u001b[1m275s\u001b[0m 6s/step - accuracy: 0.0327 - loss: 10.3294"
     ]
    },
    {
     "name": "stderr",
     "output_type": "stream",
     "text": [
      "W0000 00:00:1760601094.185985     107 assert_op.cc:38] Ignoring Assert operator compile_loss/sparse_categorical_crossentropy/SparseSoftmaxCrossEntropyWithLogits/assert_equal_1/Assert/Assert\n"
     ]
    },
    {
     "name": "stdout",
     "output_type": "stream",
     "text": [
      "     41/Unknown \u001b[1m293s\u001b[0m 6s/step - accuracy: 0.0483 - loss: 10.3119"
     ]
    },
    {
     "name": "stderr",
     "output_type": "stream",
     "text": [
      "W0000 00:00:1760601113.318194     110 assert_op.cc:38] Ignoring Assert operator compile_loss/sparse_categorical_crossentropy/SparseSoftmaxCrossEntropyWithLogits/assert_equal_1/Assert/Assert\n"
     ]
    },
    {
     "name": "stdout",
     "output_type": "stream",
     "text": [
      "     44/Unknown \u001b[1m312s\u001b[0m 6s/step - accuracy: 0.0572 - loss: 10.3009"
     ]
    },
    {
     "name": "stderr",
     "output_type": "stream",
     "text": [
      "W0000 00:00:1760601131.449964     110 assert_op.cc:38] Ignoring Assert operator compile_loss/sparse_categorical_crossentropy/SparseSoftmaxCrossEntropyWithLogits/assert_equal_1/Assert/Assert\n"
     ]
    },
    {
     "name": "stdout",
     "output_type": "stream",
     "text": [
      "     48/Unknown \u001b[1m330s\u001b[0m 6s/step - accuracy: 0.0686 - loss: 10.2858"
     ]
    },
    {
     "name": "stderr",
     "output_type": "stream",
     "text": [
      "W0000 00:00:1760601149.794891     109 assert_op.cc:38] Ignoring Assert operator compile_loss/sparse_categorical_crossentropy/SparseSoftmaxCrossEntropyWithLogits/assert_equal_1/Assert/Assert\n"
     ]
    },
    {
     "name": "stdout",
     "output_type": "stream",
     "text": [
      "     52/Unknown \u001b[1m350s\u001b[0m 6s/step - accuracy: 0.0796 - loss: 10.2699"
     ]
    },
    {
     "name": "stderr",
     "output_type": "stream",
     "text": [
      "W0000 00:00:1760601169.190279     107 assert_op.cc:38] Ignoring Assert operator compile_loss/sparse_categorical_crossentropy/SparseSoftmaxCrossEntropyWithLogits/assert_equal_1/Assert/Assert\n"
     ]
    },
    {
     "name": "stdout",
     "output_type": "stream",
     "text": [
      "     56/Unknown \u001b[1m369s\u001b[0m 6s/step - accuracy: 0.0902 - loss: 10.2534"
     ]
    },
    {
     "name": "stderr",
     "output_type": "stream",
     "text": [
      "W0000 00:00:1760601188.620651     110 assert_op.cc:38] Ignoring Assert operator compile_loss/sparse_categorical_crossentropy/SparseSoftmaxCrossEntropyWithLogits/assert_equal_1/Assert/Assert\n"
     ]
    },
    {
     "name": "stdout",
     "output_type": "stream",
     "text": [
      "     65/Unknown \u001b[1m388s\u001b[0m 5s/step - accuracy: 0.1113 - loss: 10.2164"
     ]
    },
    {
     "name": "stderr",
     "output_type": "stream",
     "text": [
      "W0000 00:00:1760601207.760046     107 assert_op.cc:38] Ignoring Assert operator compile_loss/sparse_categorical_crossentropy/SparseSoftmaxCrossEntropyWithLogits/assert_equal_1/Assert/Assert\n"
     ]
    },
    {
     "name": "stdout",
     "output_type": "stream",
     "text": [
      "   1485/Unknown \u001b[1m1250s\u001b[0m 803ms/step - accuracy: 0.4194 - loss: 6.3433"
     ]
    },
    {
     "name": "stderr",
     "output_type": "stream",
     "text": [
      "/usr/local/lib/python3.11/dist-packages/keras/src/trainers/epoch_iterator.py:151: UserWarning: Your input ran out of data; interrupting training. Make sure that your dataset or generator can generate at least `steps_per_epoch * epochs` batches. You may need to use the `.repeat()` function when building your dataset.\n",
      "  self._interrupted_warning()\n"
     ]
    },
    {
     "name": "stdout",
     "output_type": "stream",
     "text": [
      "\u001b[1m1485/1485\u001b[0m \u001b[32m━━━━━━━━━━━━━━━━━━━━\u001b[0m\u001b[37m\u001b[0m \u001b[1m1333s\u001b[0m 858ms/step - accuracy: 0.4194 - loss: 6.3419 - val_accuracy: 0.6108 - val_loss: 2.6257\n",
      "Epoch 2/150\n",
      "\u001b[1m1485/1485\u001b[0m \u001b[32m━━━━━━━━━━━━━━━━━━━━\u001b[0m\u001b[37m\u001b[0m \u001b[1m253s\u001b[0m 167ms/step - accuracy: 0.6185 - loss: 2.5227 - val_accuracy: 0.6578 - val_loss: 2.1892\n",
      "Epoch 3/150\n",
      "\u001b[1m1485/1485\u001b[0m \u001b[32m━━━━━━━━━━━━━━━━━━━━\u001b[0m\u001b[37m\u001b[0m \u001b[1m184s\u001b[0m 120ms/step - accuracy: 0.6599 - loss: 2.1313 - val_accuracy: 0.7021 - val_loss: 1.8183\n",
      "Epoch 4/150\n",
      "\u001b[1m1485/1485\u001b[0m \u001b[32m━━━━━━━━━━━━━━━━━━━━\u001b[0m\u001b[37m\u001b[0m \u001b[1m165s\u001b[0m 107ms/step - accuracy: 0.7028 - loss: 1.7732 - val_accuracy: 0.7454 - val_loss: 1.5224\n",
      "Epoch 5/150\n",
      "\u001b[1m1485/1485\u001b[0m \u001b[32m━━━━━━━━━━━━━━━━━━━━\u001b[0m\u001b[37m\u001b[0m \u001b[1m180s\u001b[0m 117ms/step - accuracy: 0.7444 - loss: 1.4695 - val_accuracy: 0.7714 - val_loss: 1.3571\n",
      "Epoch 6/150\n",
      "\u001b[1m1485/1485\u001b[0m \u001b[32m━━━━━━━━━━━━━━━━━━━━\u001b[0m\u001b[37m\u001b[0m \u001b[1m181s\u001b[0m 118ms/step - accuracy: 0.7695 - loss: 1.2988 - val_accuracy: 0.7859 - val_loss: 1.2694\n",
      "Epoch 7/150\n",
      "\u001b[1m1485/1485\u001b[0m \u001b[32m━━━━━━━━━━━━━━━━━━━━\u001b[0m\u001b[37m\u001b[0m \u001b[1m163s\u001b[0m 106ms/step - accuracy: 0.7878 - loss: 1.1796 - val_accuracy: 0.7963 - val_loss: 1.2204\n",
      "Epoch 8/150\n",
      "\u001b[1m1485/1485\u001b[0m \u001b[32m━━━━━━━━━━━━━━━━━━━━\u001b[0m\u001b[37m\u001b[0m \u001b[1m163s\u001b[0m 106ms/step - accuracy: 0.7983 - loss: 1.1170 - val_accuracy: 0.8018 - val_loss: 1.2091\n",
      "Epoch 9/150\n",
      "\u001b[1m1485/1485\u001b[0m \u001b[32m━━━━━━━━━━━━━━━━━━━━\u001b[0m\u001b[37m\u001b[0m \u001b[1m143s\u001b[0m 93ms/step - accuracy: 0.8090 - loss: 1.0613 - val_accuracy: 0.8096 - val_loss: 1.1685\n",
      "Epoch 10/150\n",
      "\u001b[1m1485/1485\u001b[0m \u001b[32m━━━━━━━━━━━━━━━━━━━━\u001b[0m\u001b[37m\u001b[0m \u001b[1m126s\u001b[0m 81ms/step - accuracy: 0.8180 - loss: 1.0099 - val_accuracy: 0.8139 - val_loss: 1.1459\n",
      "Epoch 11/150\n",
      "\u001b[1m1485/1485\u001b[0m \u001b[32m━━━━━━━━━━━━━━━━━━━━\u001b[0m\u001b[37m\u001b[0m \u001b[1m144s\u001b[0m 93ms/step - accuracy: 0.8269 - loss: 0.9648 - val_accuracy: 0.8174 - val_loss: 1.1339\n",
      "Epoch 12/150\n",
      "\u001b[1m1485/1485\u001b[0m \u001b[32m━━━━━━━━━━━━━━━━━━━━\u001b[0m\u001b[37m\u001b[0m \u001b[1m182s\u001b[0m 119ms/step - accuracy: 0.8331 - loss: 0.9260 - val_accuracy: 0.8196 - val_loss: 1.1236\n",
      "Epoch 13/150\n",
      "\u001b[1m1485/1485\u001b[0m \u001b[32m━━━━━━━━━━━━━━━━━━━━\u001b[0m\u001b[37m\u001b[0m \u001b[1m183s\u001b[0m 120ms/step - accuracy: 0.8391 - loss: 0.8942 - val_accuracy: 0.8226 - val_loss: 1.1122\n",
      "Epoch 14/150\n",
      "\u001b[1m1485/1485\u001b[0m \u001b[32m━━━━━━━━━━━━━━━━━━━━\u001b[0m\u001b[37m\u001b[0m \u001b[1m127s\u001b[0m 82ms/step - accuracy: 0.8441 - loss: 0.8653 - val_accuracy: 0.8257 - val_loss: 1.1045\n",
      "Epoch 15/150\n",
      "\u001b[1m1485/1485\u001b[0m \u001b[32m━━━━━━━━━━━━━━━━━━━━\u001b[0m\u001b[37m\u001b[0m \u001b[1m126s\u001b[0m 81ms/step - accuracy: 0.8480 - loss: 0.8450 - val_accuracy: 0.8283 - val_loss: 1.0919\n",
      "Epoch 16/150\n",
      "\u001b[1m1485/1485\u001b[0m \u001b[32m━━━━━━━━━━━━━━━━━━━━\u001b[0m\u001b[37m\u001b[0m \u001b[1m126s\u001b[0m 81ms/step - accuracy: 0.8531 - loss: 0.8193 - val_accuracy: 0.8296 - val_loss: 1.0915\n",
      "Epoch 17/150\n",
      "\u001b[1m1485/1485\u001b[0m \u001b[32m━━━━━━━━━━━━━━━━━━━━\u001b[0m\u001b[37m\u001b[0m \u001b[1m126s\u001b[0m 81ms/step - accuracy: 0.8561 - loss: 0.8004 - val_accuracy: 0.8302 - val_loss: 1.0863\n",
      "Epoch 18/150\n",
      "\u001b[1m1485/1485\u001b[0m \u001b[32m━━━━━━━━━━━━━━━━━━━━\u001b[0m\u001b[37m\u001b[0m \u001b[1m127s\u001b[0m 82ms/step - accuracy: 0.8602 - loss: 0.7800 - val_accuracy: 0.8318 - val_loss: 1.0824\n",
      "Epoch 19/150\n",
      "\u001b[1m1485/1485\u001b[0m \u001b[32m━━━━━━━━━━━━━━━━━━━━\u001b[0m\u001b[37m\u001b[0m \u001b[1m144s\u001b[0m 93ms/step - accuracy: 0.8640 - loss: 0.7598 - val_accuracy: 0.8328 - val_loss: 1.0785\n",
      "Epoch 20/150\n",
      "\u001b[1m1485/1485\u001b[0m \u001b[32m━━━━━━━━━━━━━━━━━━━━\u001b[0m\u001b[37m\u001b[0m \u001b[1m144s\u001b[0m 93ms/step - accuracy: 0.8664 - loss: 0.7483 - val_accuracy: 0.8333 - val_loss: 1.0758\n",
      "Epoch 21/150\n",
      "\u001b[1m1485/1485\u001b[0m \u001b[32m━━━━━━━━━━━━━━━━━━━━\u001b[0m\u001b[37m\u001b[0m \u001b[1m146s\u001b[0m 94ms/step - accuracy: 0.8688 - loss: 0.7341 - val_accuracy: 0.8342 - val_loss: 1.0737\n",
      "Epoch 22/150\n",
      "\u001b[1m1485/1485\u001b[0m \u001b[32m━━━━━━━━━━━━━━━━━━━━\u001b[0m\u001b[37m\u001b[0m \u001b[1m123s\u001b[0m 79ms/step - accuracy: 0.8752 - loss: 0.7029 - val_accuracy: 0.8358 - val_loss: 1.0723\n",
      "Epoch 24/150\n",
      "\u001b[1m1485/1485\u001b[0m \u001b[32m━━━━━━━━━━━━━━━━━━━━\u001b[0m\u001b[37m\u001b[0m \u001b[1m142s\u001b[0m 92ms/step - accuracy: 0.8770 - loss: 0.6926 - val_accuracy: 0.8368 - val_loss: 1.0699\n",
      "Epoch 25/150\n",
      "\u001b[1m1485/1485\u001b[0m \u001b[32m━━━━━━━━━━━━━━━━━━━━\u001b[0m\u001b[37m\u001b[0m \u001b[1m124s\u001b[0m 80ms/step - accuracy: 0.8782 - loss: 0.6820 - val_accuracy: 0.8364 - val_loss: 1.0714\n",
      "Epoch 26/150\n",
      "\u001b[1m1485/1485\u001b[0m \u001b[32m━━━━━━━━━━━━━━━━━━━━\u001b[0m\u001b[37m\u001b[0m \u001b[1m123s\u001b[0m 79ms/step - accuracy: 0.8812 - loss: 0.6695 - val_accuracy: 0.8366 - val_loss: 1.0714\n",
      "Epoch 27/150\n",
      "\u001b[1m1485/1485\u001b[0m \u001b[32m━━━━━━━━━━━━━━━━━━━━\u001b[0m\u001b[37m\u001b[0m \u001b[1m126s\u001b[0m 81ms/step - accuracy: 0.8828 - loss: 0.6613 - val_accuracy: 0.8383 - val_loss: 1.0737\n",
      "Epoch 28/150\n",
      "\u001b[1m1485/1485\u001b[0m \u001b[32m━━━━━━━━━━━━━━━━━━━━\u001b[0m\u001b[37m\u001b[0m \u001b[1m124s\u001b[0m 80ms/step - accuracy: 0.8853 - loss: 0.6474 - val_accuracy: 0.8381 - val_loss: 1.0715\n",
      "Epoch 29/150\n",
      "\u001b[1m1485/1485\u001b[0m \u001b[32m━━━━━━━━━━━━━━━━━━━━\u001b[0m\u001b[37m\u001b[0m \u001b[1m124s\u001b[0m 80ms/step - accuracy: 0.8868 - loss: 0.6414 - val_accuracy: 0.8373 - val_loss: 1.0728\n",
      "Epoch 30/150\n",
      "\u001b[1m1485/1485\u001b[0m \u001b[32m━━━━━━━━━━━━━━━━━━━━\u001b[0m\u001b[37m\u001b[0m \u001b[1m124s\u001b[0m 80ms/step - accuracy: 0.8896 - loss: 0.6276 - val_accuracy: 0.8376 - val_loss: 1.0745\n",
      "Epoch 31/150\n",
      "\u001b[1m1485/1485\u001b[0m \u001b[32m━━━━━━━━━━━━━━━━━━━━\u001b[0m\u001b[37m\u001b[0m \u001b[1m123s\u001b[0m 79ms/step - accuracy: 0.8908 - loss: 0.6229 - val_accuracy: 0.8378 - val_loss: 1.0771\n",
      "Epoch 32/150\n",
      "\u001b[1m1485/1485\u001b[0m \u001b[32m━━━━━━━━━━━━━━━━━━━━\u001b[0m\u001b[37m\u001b[0m \u001b[1m125s\u001b[0m 81ms/step - accuracy: 0.8924 - loss: 0.6126 - val_accuracy: 0.8390 - val_loss: 1.0745\n",
      "Epoch 33/150\n",
      "\u001b[1m1485/1485\u001b[0m \u001b[32m━━━━━━━━━━━━━━━━━━━━\u001b[0m\u001b[37m\u001b[0m \u001b[1m125s\u001b[0m 81ms/step - accuracy: 0.8959 - loss: 0.5961 - val_accuracy: 0.8381 - val_loss: 1.0822\n",
      "Epoch 35/150\n",
      "\u001b[1m1485/1485\u001b[0m \u001b[32m━━━━━━━━━━━━━━━━━━━━\u001b[0m\u001b[37m\u001b[0m \u001b[1m124s\u001b[0m 80ms/step - accuracy: 0.8972 - loss: 0.5904 - val_accuracy: 0.8372 - val_loss: 1.0834\n",
      "Epoch 36/150\n",
      "\u001b[1m1485/1485\u001b[0m \u001b[32m━━━━━━━━━━━━━━━━━━━━\u001b[0m\u001b[37m\u001b[0m \u001b[1m126s\u001b[0m 81ms/step - accuracy: 0.8986 - loss: 0.5809 - val_accuracy: 0.8392 - val_loss: 1.0818\n",
      "Epoch 37/150\n",
      "\u001b[1m1485/1485\u001b[0m \u001b[32m━━━━━━━━━━━━━━━━━━━━\u001b[0m\u001b[37m\u001b[0m \u001b[1m126s\u001b[0m 81ms/step - accuracy: 0.9002 - loss: 0.5739 - val_accuracy: 0.8394 - val_loss: 1.0821\n",
      "Epoch 38/150\n",
      "\u001b[1m1485/1485\u001b[0m \u001b[32m━━━━━━━━━━━━━━━━━━━━\u001b[0m\u001b[37m\u001b[0m \u001b[1m145s\u001b[0m 94ms/step - accuracy: 0.9018 - loss: 0.5664 - val_accuracy: 0.8395 - val_loss: 1.0808\n",
      "Epoch 39/150\n",
      "\u001b[1m1485/1485\u001b[0m \u001b[32m━━━━━━━━━━━━━━━━━━━━\u001b[0m\u001b[37m\u001b[0m \u001b[1m124s\u001b[0m 80ms/step - accuracy: 0.9028 - loss: 0.5593 - val_accuracy: 0.8383 - val_loss: 1.0860\n",
      "\\n--- Model Training Finished ---\n",
      "Loading best weights from training...\n"
     ]
    }
   ],
   "source": [
    "model_name = \"./weights/transformer_model_eng_esp-2.weights.h5\"\n",
    "\n",
    "if config.IS_TRAINING:\n",
    "    # Callback to save the best model during training\n",
    "    checkpoints = tf.keras.callbacks.ModelCheckpoint(\n",
    "        model_name,  # Corrected filename extension\n",
    "        monitor=\"val_accuracy\",\n",
    "        mode=\"max\",\n",
    "        save_best_only=True,\n",
    "        save_weights_only=True, \n",
    "    )\n",
    "    \n",
    "    # Callback for early stopping\n",
    "    early_stop = tf.keras.callbacks.EarlyStopping(\n",
    "        patience=15,\n",
    "        monitor=\"val_loss\",\n",
    "        mode=\"min\",\n",
    "        restore_best_weights=True,\n",
    "    )\n",
    "\n",
    "\n",
    "    # Training the model\n",
    "    print(\"--- Starting Model Training ---\")\n",
    "    history = transformer.fit(\n",
    "        train_ds,\n",
    "        epochs=config.EPOCHS,\n",
    "        validation_data=valid_ds,\n",
    "        \n",
    "        # steps_per_epoch=STEPS_PER_EPOCH,\n",
    "        # validation_steps=VALIDATION_STEPS,\n",
    "        callbacks=[checkpoints, early_stop],\n",
    "    )\n",
    "    print(\"\\\\n--- Model Training Finished ---\")\n",
    "    \n",
    "    # Load the best weights saved during training\n",
    "    print(\"Loading best weights from training...\")\n",
    "    # FIX: Corrected filename to match the checkpoint filename\n",
    "    transformer.load_weights(model_name)\n",
    "\n",
    "else:\n",
    "    # If not training, attempt to load a pre-existing model\n",
    "    try:\n",
    "        print(\"Loading pre-trained weights...\")\n",
    "        transformer.load_weights(model_name)\n",
    "    except (FileNotFoundError, tf.errors.NotFoundError):\n",
    "        print(f\"Error: Model weights file {model_name} not found.\")\n",
    "        print(\"Please set config.is_training to True to train the model first.\")"
   ]
  },
  {
   "cell_type": "code",
   "execution_count": 21,
   "id": "58cb685f-799d-4a4d-b22f-f2f50d4661ba",
   "metadata": {
    "execution": {
     "iopub.execute_input": "2025-10-16T09:40:01.773138Z",
     "iopub.status.busy": "2025-10-16T09:40:01.772756Z",
     "iopub.status.idle": "2025-10-16T09:40:02.148028Z",
     "shell.execute_reply": "2025-10-16T09:40:02.147335Z",
     "shell.execute_reply.started": "2025-10-16T09:40:01.773117Z"
    },
    "trusted": true
   },
   "outputs": [
    {
     "data": {
      "image/png": "[encoded data removed]",
      "text/plain": [
       "<Figure size 1000x600 with 1 Axes>"
      ]
     },
     "metadata": {},
     "output_type": "display_data"
    },
    {
     "data": {
      "image/png": "[encoded data removed]",
      "text/plain": [
       "<Figure size 1000x600 with 1 Axes>"
      ]
     },
     "metadata": {},
     "output_type": "display_data"
    }
   ],
   "source": [
    "# Plotting the loss\n",
    "plt.figure(figsize=(10, 6))\n",
    "plt.plot(history.history['loss'], label='Training Loss')\n",
    "plt.plot(history.history['val_loss'], label='Validation Loss')\n",
    "plt.title('Training and Validation Loss Over Epochs')\n",
    "plt.xlabel('Epoch')\n",
    "plt.ylabel('Loss')\n",
    "plt.legend()\n",
    "plt.grid(True)\n",
    "plt.show()\n",
    "\n",
    "# You can also plot accuracy similarly\n",
    "plt.figure(figsize=(10, 6))\n",
    "plt.plot(history.history['accuracy'], label='Training Accuracy')\n",
    "plt.plot(history.history['val_accuracy'], label='Validation Accuracy')\n",
    "plt.title('Training and Validation Accuracy Over Epochs')\n",
    "plt.xlabel('Epoch')\n",
    "plt.ylabel('Accuracy')\n",
    "plt.legend()\n",
    "plt.grid(True)\n",
    "plt.show()"
   ]
  },
  {
   "cell_type": "code",
   "execution_count": 28,
   "id": "d82ea660",
   "metadata": {
    "execution": {
     "iopub.execute_input": "2025-10-16T09:42:18.848012Z",
     "iopub.status.busy": "2025-10-16T09:42:18.847402Z",
     "iopub.status.idle": "2025-10-16T09:42:18.855713Z",
     "shell.execute_reply": "2025-10-16T09:42:18.855093Z",
     "shell.execute_reply.started": "2025-10-16T09:42:18.847990Z"
    },
    "trusted": true
   },
   "outputs": [],
   "source": [
    "def translate(english_sentence, beam_width=3):\n",
    "    \"\"\"\n",
    "    Translates an English sentence to Spanish using the trained Transformer model\n",
    "    with beam search.\n",
    "    \"\"\"\n",
    "    # Preprocess the input sentence\n",
    "    tokenized_english = eng_sp.encode(english_sentence.lower())\n",
    "    encoder_input = tf.constant([tokenized_english], dtype=tf.int64)\n",
    "\n",
    "    # The decoder's input starts with the BOS token\n",
    "    start_token = esp_sp.bos_id()\n",
    "    end_token = esp_sp.eos_id()\n",
    "\n",
    "    # Initialize the beam with a Python list of lists.\n",
    "    initial_beam = [([start_token], 0.0)]\n",
    "    \n",
    "    completed_hypotheses = []\n",
    "\n",
    "    for _ in range(config.MAX_LENGTH):\n",
    "        new_beam = []\n",
    "        for seq, score in initial_beam:\n",
    "            if seq[-1] == end_token:\n",
    "                completed_hypotheses.append((seq, score))\n",
    "                continue\n",
    "\n",
    "            decoder_input = tf.constant([seq], dtype=tf.int64)\n",
    "            predictions = transformer([encoder_input, decoder_input], training=False)\n",
    "            \n",
    "            # Get the log probabilities of the next possible tokens\n",
    "            last_token_probs = predictions[:, -1, :]\n",
    "            log_probs = tf.math.log(last_token_probs)\n",
    "            \n",
    "            # Get the top k most likely next tokens\n",
    "            top_k_log_probs, top_k_indices = tf.nn.top_k(log_probs, k=beam_width)\n",
    "\n",
    "            for i in range(beam_width):\n",
    "                new_token = top_k_indices[0, i]\n",
    "                new_log_prob = top_k_log_probs[0, i].numpy()\n",
    "                \n",
    "                # FIX: Convert the new_token to a native Python integer using .item()\n",
    "                new_seq = seq + [new_token.numpy().item()]\n",
    "                new_score = score + new_log_prob\n",
    "                \n",
    "                new_beam.append((new_seq, new_score))\n",
    "\n",
    "        # If all beams have ended in EOS, we can stop early\n",
    "        if not new_beam:\n",
    "            break\n",
    "\n",
    "        # Sort all new possible hypotheses by their score and keep the top k\n",
    "        initial_beam = sorted(new_beam, key=lambda x: x[1] / len(x[0]), reverse=True)[:beam_width]\n",
    "\n",
    "    # Add any remaining hypotheses from the beam to the completed list\n",
    "    completed_hypotheses.extend(initial_beam)\n",
    "\n",
    "    # Find the best translation among the completed hypotheses\n",
    "    if not completed_hypotheses:\n",
    "        return \"\"\n",
    "        \n",
    "    best_hypothesis = sorted(completed_hypotheses, key=lambda x: x[1] / len(x[0]), reverse=True)[0]\n",
    "    best_seq = best_hypothesis[0]\n",
    "    \n",
    "    # Decode the sequence of token IDs back to a text string\n",
    "    predicted_sentence = esp_sp.decode(best_seq)\n",
    "    \n",
    "    return predicted_sentence"
   ]
  },
  {
   "cell_type": "code",
   "execution_count": 30,
   "id": "85562cce",
   "metadata": {
    "execution": {
     "iopub.execute_input": "2025-10-16T09:45:11.389150Z",
     "iopub.status.busy": "2025-10-16T09:45:11.388897Z",
     "iopub.status.idle": "2025-10-16T09:45:15.275412Z",
     "shell.execute_reply": "2025-10-16T09:45:15.274628Z",
     "shell.execute_reply.started": "2025-10-16T09:45:11.389134Z"
    },
    "trusted": true
   },
   "outputs": [
    {
     "name": "stdout",
     "output_type": "stream",
     "text": [
      "English Input:     let me pay my share.\n",
      "Reference Spanish:   permitime pagar mi parte.\n",
      "Predicted Spanish:   déjame pagar mi parte de mi parte.\n",
      "------------------------------\n",
      "BLEU score for this sentence: 0.0000\n"
     ]
    }
   ],
   "source": [
    "from nltk.translate.bleu_score import sentence_bleu\n",
    "\n",
    "# Select a sample from your validation dataframe\n",
    "sample_index = 89\n",
    "english_sentence = valid_df.iloc[sample_index]['english']\n",
    "reference_hindi = valid_df.iloc[sample_index]['spanish']\n",
    "\n",
    "# Use the translate function to get the model's prediction\n",
    "predicted_hindi = translate(english_sentence)\n",
    "\n",
    "\n",
    "print(f\"English Input:     {english_sentence}\")\n",
    "print(f\"Reference Spanish:   {reference_hindi}\")\n",
    "print(f\"Predicted Spanish:   {predicted_hindi}\")\n",
    "print(\"-\" * 30)\n",
    "\n",
    "# Calculate the BLEU score\n",
    "reference = [reference_hindi.split()]\n",
    "candidate = predicted_hindi.split()\n",
    "score = sentence_bleu(reference, candidate)\n",
    "\n",
    "print(f\"BLEU score for this sentence: {score:.4f}\")"
   ]
  }
 ],
 "metadata": {
  "kaggle": {
   "accelerator": "gpu",
   "dataSources": [
    {
     "datasetId": 5008849,
     "sourceId": 8415058,
     "sourceType": "datasetVersion"
    },
    {
     "isSourceIdPinned": false,
     "modelId": 469712,
     "modelInstanceId": 453415,
     "sourceId": 604615,
     "sourceType": "modelInstanceVersion"
    }
   ],
   "dockerImageVersionId": 31154,
   "isGpuEnabled": true,
   "isInternetEnabled": true,
   "language": "python",
   "sourceType": "notebook"
  },
  "kernelspec": {
   "display_name": "Python 3",
   "language": "python",
   "name": "python3"
  },
  "language_info": {
   "codemirror_mode": {
    "name": "ipython",
    "version": 3
   },
   "file_extension": ".py",
   "mimetype": "text/x-python",
   "name": "python",
   "nbconvert_exporter": "python",
   "pygments_lexer": "ipython3",
   "version": "3.12.0"
  }
 },
 "nbformat": 4,
 "nbformat_minor": 5
}
